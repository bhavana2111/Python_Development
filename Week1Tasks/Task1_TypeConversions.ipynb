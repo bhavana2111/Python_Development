{
 "cells": [
  {
   "cell_type": "code",
   "execution_count": 14,
   "id": "fd011eaa-05b8-46b5-9c5b-72103f93a322",
   "metadata": {},
   "outputs": [
    {
     "name": "stdout",
     "output_type": "stream",
     "text": [
      "Converting 10 to FLOAT makes it = 10.0\n",
      "Converting 10 to String makes it = 10\n",
      "Converting 10 to BOOLEAN makes it = True\n",
      "Converting 10 to COMPLEX makes it = (10+0j)\n",
      "Converting 10 to COMPLEX makes it = (10+0j)\n",
      "Converting 65.23 to INT makes it = 65\n",
      "Converting 65.23 to String makes it = 65.23\n",
      "Converting 65.23 to BOOLEAN makes it = True\n",
      "Converting 65.23 to COMPLEX makes it = (65.23+0j)\n",
      "Converting (10+4j) to String makes it = (10+4j)\n"
     ]
    },
    {
     "ename": "TypeError",
     "evalue": "int() argument must be a string, a bytes-like object or a real number, not 'complex'",
     "output_type": "error",
     "traceback": [
      "\u001b[1;31m---------------------------------------------------------------------------\u001b[0m",
      "\u001b[1;31mTypeError\u001b[0m                                 Traceback (most recent call last)",
      "Cell \u001b[1;32mIn[14], line 17\u001b[0m\n\u001b[0;32m     15\u001b[0m complexNumber \u001b[38;5;241m=\u001b[39m \u001b[38;5;241m10\u001b[39m\u001b[38;5;241m+\u001b[39m\u001b[38;5;241m4\u001b[39mj\n\u001b[0;32m     16\u001b[0m \u001b[38;5;28mprint\u001b[39m(\u001b[38;5;124m\"\u001b[39m\u001b[38;5;124mConverting \u001b[39m\u001b[38;5;132;01m{}\u001b[39;00m\u001b[38;5;124m to String makes it = \u001b[39m\u001b[38;5;132;01m{}\u001b[39;00m\u001b[38;5;124m\"\u001b[39m\u001b[38;5;241m.\u001b[39mformat(complexNumber, \u001b[38;5;28mstr\u001b[39m(complexNumber)))\n\u001b[1;32m---> 17\u001b[0m \u001b[38;5;28mprint\u001b[39m(\u001b[38;5;124m\"\u001b[39m\u001b[38;5;124mConverting \u001b[39m\u001b[38;5;132;01m{}\u001b[39;00m\u001b[38;5;124m to INT makes it = \u001b[39m\u001b[38;5;132;01m{}\u001b[39;00m\u001b[38;5;124m\"\u001b[39m\u001b[38;5;241m.\u001b[39mformat(complexNumber, \u001b[38;5;28mint\u001b[39m(complexNumber)))\n",
      "\u001b[1;31mTypeError\u001b[0m: int() argument must be a string, a bytes-like object or a real number, not 'complex'"
     ]
    }
   ],
   "source": [
    "intNumber = 10\n",
    "print(\"Converting {} to FLOAT makes it = {}\".format(intNumber, float(intNumber)))\n",
    "print(\"Converting {} to String makes it = {}\".format(intNumber, str(intNumber)))\n",
    "print(\"Converting {} to BOOLEAN makes it = {}\".format(intNumber, bool(intNumber)))\n",
    "print(\"Converting {} to COMPLEX makes it = {}\".format(intNumber, complex(intNumber)))\n",
    "print(\"Converting {} to COMPLEX makes it = {}\".format(intNumber, complex(intNumber)))\n",
    "\n",
    "\n",
    "floatNumber= 65.23\n",
    "print(\"Converting {} to INT makes it = {}\".format(floatNumber, int(floatNumber)))\n",
    "print(\"Converting {} to String makes it = {}\".format(floatNumber, str(floatNumber)))\n",
    "print(\"Converting {} to BOOLEAN makes it = {}\".format(floatNumber, bool(floatNumber)))\n",
    "print(\"Converting {} to COMPLEX makes it = {}\".format(floatNumber, complex(floatNumber)))\n",
    "\n",
    "complexNumber = 10+4j\n",
    "print(complex(True))\n",
    "print(\"Converting {} to String makes it = {}\".format(complexNumber, str(complexNumber)))\n",
    "print(\"Converting {} to INT makes it = {}\".format(complexNumber, int(complexNumber)))"
   ]
  },
  {
   "cell_type": "code",
   "execution_count": 7,
   "id": "e88c2f79-5a7e-489b-8cc7-e0c8638d81d9",
   "metadata": {},
   "outputs": [
    {
     "ename": "TypeError",
     "evalue": "float() argument must be a string or a real number, not 'complex'",
     "output_type": "error",
     "traceback": [
      "\u001b[1;31m---------------------------------------------------------------------------\u001b[0m",
      "\u001b[1;31mTypeError\u001b[0m                                 Traceback (most recent call last)",
      "Cell \u001b[1;32mIn[7], line 2\u001b[0m\n\u001b[0;32m      1\u001b[0m complexNumber \u001b[38;5;241m=\u001b[39m \u001b[38;5;241m10\u001b[39m\u001b[38;5;241m+\u001b[39m\u001b[38;5;241m4\u001b[39mj\n\u001b[1;32m----> 2\u001b[0m \u001b[38;5;28mprint\u001b[39m(\u001b[38;5;124m\"\u001b[39m\u001b[38;5;124mConverting \u001b[39m\u001b[38;5;132;01m{}\u001b[39;00m\u001b[38;5;124m to INT makes it = \u001b[39m\u001b[38;5;132;01m{}\u001b[39;00m\u001b[38;5;124m\"\u001b[39m\u001b[38;5;241m.\u001b[39mformat(complexNumber, \u001b[38;5;28mfloat\u001b[39m(complexNumber)))\n",
      "\u001b[1;31mTypeError\u001b[0m: float() argument must be a string or a real number, not 'complex'"
     ]
    }
   ],
   "source": [
    "complexNumber = 10+4j\n",
    "print(\"Converting {} to INT makes it = {}\".format(complexNumber, float(complexNumber)))"
   ]
  },
  {
   "cell_type": "code",
   "execution_count": 10,
   "id": "2b8da870-3eec-4368-9602-21c30221825e",
   "metadata": {},
   "outputs": [
    {
     "name": "stdout",
     "output_type": "stream",
     "text": [
      "Converting (10+4j) to INT makes it = True\n"
     ]
    }
   ],
   "source": [
    "complexNumber = 10+4j\n",
    "print(\"Converting {} to INT makes it = {}\".format(complexNumber, bool(complexNumber)))"
   ]
  },
  {
   "cell_type": "code",
   "execution_count": 23,
   "id": "e9a81864-f4ab-430a-8ef4-a76dd0806461",
   "metadata": {},
   "outputs": [
    {
     "name": "stdout",
     "output_type": "stream",
     "text": [
      "Converting True to INT makes it = 1\n",
      "Converting True to FLOAT makes it = 1.0\n",
      "Converting True to COMPLEX makes it = (1+0j)\n",
      "Converting True to STRING makes it = True\n",
      "False\n",
      "False\n",
      "True\n",
      "True\n"
     ]
    }
   ],
   "source": [
    "boolVal1 = True\n",
    "print(\"Converting {} to INT makes it = {}\".format(boolVal1, int(boolVal1)))\n",
    "print(\"Converting {} to FLOAT makes it = {}\".format(boolVal1, float(boolVal1)))\n",
    "print(\"Converting {} to COMPLEX makes it = {}\".format(boolVal1, complex(boolVal1)))\n",
    "print(\"Converting {} to STRING makes it = {}\".format(boolVal1, str(boolVal1)))\n",
    "print(bool())\n",
    "print(bool(      ))\n",
    "print(bool('%%'))\n",
    "print(bool('Python'))"
   ]
  },
  {
   "cell_type": "code",
   "execution_count": 24,
   "id": "8a89c237-eb9a-40da-b740-9cdcd959f41f",
   "metadata": {},
   "outputs": [
    {
     "name": "stdout",
     "output_type": "stream",
     "text": [
      "Converting 200 to INT makes it = 200\n",
      "Converting 200 to FLOAT makes it = 200.0\n",
      "Converting 200 to COMPLEX makes it = (200+0j)\n",
      "Converting 200 to BOOL makes it = True\n",
      "True\n",
      "False\n"
     ]
    }
   ],
   "source": [
    "strValues = \"200\"\n",
    "print(\"Converting {} to INT makes it = {}\".format(strValues, int(strValues)))\n",
    "print(\"Converting {} to FLOAT makes it = {}\".format(strValues, float(strValues)))\n",
    "print(\"Converting {} to COMPLEX makes it = {}\".format(strValues, complex(strValues)))\n",
    "print(\"Converting {} to BOOL makes it = {}\".format(strValues, bool(strValues)))\n",
    "print(str(True))\n",
    "print(str(False))"
   ]
  },
  {
   "cell_type": "code",
   "execution_count": null,
   "id": "b2358175-f9a4-4ce5-a522-3e55568b3009",
   "metadata": {},
   "outputs": [],
   "source": []
  }
 ],
 "metadata": {
  "kernelspec": {
   "display_name": "Python 3 (ipykernel)",
   "language": "python",
   "name": "python3"
  },
  "language_info": {
   "codemirror_mode": {
    "name": "ipython",
    "version": 3
   },
   "file_extension": ".py",
   "mimetype": "text/x-python",
   "name": "python",
   "nbconvert_exporter": "python",
   "pygments_lexer": "ipython3",
   "version": "3.12.7"
  }
 },
 "nbformat": 4,
 "nbformat_minor": 5
}
