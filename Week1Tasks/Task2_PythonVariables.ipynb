{
 "cells": [
  {
   "cell_type": "code",
   "execution_count": 14,
   "id": "4fdd47d8-7951-4e87-a81c-a3b121c61030",
   "metadata": {},
   "outputs": [
    {
     "name": "stdout",
     "output_type": "stream",
     "text": [
      "10\n",
      "<class 'int'>\n",
      "30\n",
      "40\n",
      "200\n"
     ]
    }
   ],
   "source": [
    "# Integer Variables\n",
    "# Storing and printing value of variables\n",
    "# Using variables in Expressions\n",
    "# Reassigning value of the variables\n",
    "# Using variables in Calculation\n",
    "num = 10\n",
    "print(num)\n",
    "print(type(num))\n",
    "\n",
    "number1 = 10\n",
    "number2 = 20\n",
    "sum = number1+number2\n",
    "print(sum)\n",
    "\n",
    "# Changing value of Variable\n",
    "number1=20\n",
    "sum = number1+number2\n",
    "print(sum)\n",
    "\n",
    "# Using variables in Calculation\n",
    "length = 10\n",
    "width = 20\n",
    "area = length * width\n",
    "print(area)"
   ]
  },
  {
   "cell_type": "code",
   "execution_count": 15,
   "id": "92668f5a-4110-4186-bae8-5938d9e3a4be",
   "metadata": {},
   "outputs": [
    {
     "name": "stdout",
     "output_type": "stream",
     "text": [
      "12.357\n",
      "<class 'float'>\n",
      "30.9\n",
      "41.2\n",
      "207.1585\n"
     ]
    }
   ],
   "source": [
    "# Float Variables\n",
    "# Storing and printing value of variables\n",
    "# Using variables in Expressions\n",
    "# Reassigning value of the variables\n",
    "num = 12.357\n",
    "print(num)\n",
    "print(type(num))\n",
    "\n",
    "number1 = 10.1\n",
    "number2 = 20.8\n",
    "sum = number1+number2\n",
    "print(sum)\n",
    "\n",
    "# Changing value of Variable\n",
    "number1 = 20.4\n",
    "sum = number1+number2\n",
    "print(sum)\n",
    "\n",
    "# Using variables in Calculation\n",
    "length = 10.13\n",
    "width = 20.45\n",
    "area = length * width\n",
    "print(area)"
   ]
  },
  {
   "cell_type": "code",
   "execution_count": 11,
   "id": "963011b7-69cf-4812-89ea-32ce586dd9e6",
   "metadata": {},
   "outputs": [
    {
     "name": "stdout",
     "output_type": "stream",
     "text": [
      "True\n",
      "<class 'bool'>\n",
      "1\n",
      "0\n"
     ]
    }
   ],
   "source": [
    "# Boolean Variables\n",
    "# Storing and printing value of variables\n",
    "# Using variables in Expressions\n",
    "# Reassigning value of the variables\n",
    "variable1 = True\n",
    "print(variable1)\n",
    "print(type(variable1))\n",
    "\n",
    "variable1 = True\n",
    "variable2 = False\n",
    "sum = variable1+variable2\n",
    "print(sum)\n",
    "\n",
    "# Changing value of Variable\n",
    "variable1 = False\n",
    "sum = variable1+variable2\n",
    "print(sum)"
   ]
  },
  {
   "cell_type": "code",
   "execution_count": 16,
   "id": "e137ee8b-1694-44aa-8067-260749f51a97",
   "metadata": {},
   "outputs": [
    {
     "name": "stdout",
     "output_type": "stream",
     "text": [
      "(10+2j)\n",
      "<class 'complex'>\n",
      "(26+7j)\n",
      "(39+10j)\n",
      "(152+200j)\n"
     ]
    }
   ],
   "source": [
    "# Complex Variables\n",
    "# Storing and printing value of variables\n",
    "# Using variables in Expressions\n",
    "# Reassigning value of the variables\n",
    "variable1 = 10 + 2j\n",
    "print(variable1)\n",
    "print(type(variable1))\n",
    "\n",
    "variable1 = 10 + 2j\n",
    "variable2 = 16 + 5j\n",
    "sum = variable1+variable2\n",
    "print(sum)\n",
    "\n",
    "# Changing value of Variable\n",
    "variable1 = 23 + 5j\n",
    "sum = variable1+variable2\n",
    "print(sum)\n",
    "\n",
    "# Using variables in Calculation\n",
    "length = 10 + 6j\n",
    "width = 20 + 8j\n",
    "area = length * width\n",
    "print(area)"
   ]
  },
  {
   "cell_type": "code",
   "execution_count": 19,
   "id": "fe74b8ff-7734-4753-ab26-256519424203",
   "metadata": {},
   "outputs": [
    {
     "name": "stdout",
     "output_type": "stream",
     "text": [
      "Python Learning\n",
      "<class 'str'>\n",
      "Python Learning at classroom\n",
      "Java Learning at classroom\n",
      "Learning Python on the go\n"
     ]
    }
   ],
   "source": [
    "# String Variables\n",
    "# Storing and printing value of variables\n",
    "# Using variables in Expressions\n",
    "# Reassigning value of the variables\n",
    "variable1 = \"Python Learning\"\n",
    "print(variable1)\n",
    "print(type(variable1))\n",
    "\n",
    "variable1 = \"Python Learning\"\n",
    "variable2 = \" at classroom\"\n",
    "sum = variable1+variable2\n",
    "print(sum)\n",
    "\n",
    "# Changing value of Variable\n",
    "variable1 = \"Java Learning\"\n",
    "sum = variable1+variable2\n",
    "print(sum)\n",
    "\n",
    "# Concatenation of Strings\n",
    "str1 = \"Learning\"\n",
    "str2 = \"Python\"\n",
    "str3 = \"on the go\"\n",
    "print(str1+\" \"+str2+\" \"+str3)\n"
   ]
  },
  {
   "cell_type": "code",
   "execution_count": null,
   "id": "159b5ebd-790a-4890-aad7-7c38c303b252",
   "metadata": {},
   "outputs": [],
   "source": []
  },
  {
   "cell_type": "code",
   "execution_count": null,
   "id": "4fc62fdd-d930-49e5-9bce-6d1cc1af22da",
   "metadata": {},
   "outputs": [],
   "source": []
  }
 ],
 "metadata": {
  "kernelspec": {
   "display_name": "Python 3 (ipykernel)",
   "language": "python",
   "name": "python3"
  },
  "language_info": {
   "codemirror_mode": {
    "name": "ipython",
    "version": 3
   },
   "file_extension": ".py",
   "mimetype": "text/x-python",
   "name": "python",
   "nbconvert_exporter": "python",
   "pygments_lexer": "ipython3",
   "version": "3.12.7"
  }
 },
 "nbformat": 4,
 "nbformat_minor": 5
}
