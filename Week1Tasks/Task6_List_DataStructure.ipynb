{
 "cells": [
  {
   "cell_type": "code",
   "execution_count": 2,
   "id": "ab823325-dd25-4fc6-907b-8cff2e069756",
   "metadata": {},
   "outputs": [
    {
     "data": {
      "text/plain": [
       "int"
      ]
     },
     "execution_count": 2,
     "metadata": {},
     "output_type": "execute_result"
    }
   ],
   "source": [
    "number = 10\n",
    "type(number)"
   ]
  },
  {
   "cell_type": "code",
   "execution_count": 38,
   "id": "34052b76-b9df-4d19-893e-20a1373fca97",
   "metadata": {},
   "outputs": [
    {
     "name": "stdout",
     "output_type": "stream",
     "text": [
      "**********LIST DATA STRUCTURE************\n",
      "APPEND Function\n",
      "MyList list [10, 20, 30, 10, 30, 60] and Length = 6\n"
     ]
    }
   ],
   "source": [
    "print(\"**********LIST DATA STRUCTURE************\")\n",
    "print(\"APPEND Function\")\n",
    "myList = [10,20,30]\n",
    "myList.append(10)\n",
    "myList.append(30)\n",
    "myList.append(60)\n",
    "print(\"MyList list {} and Length = {}\".format(myList,len(myList)))\n"
   ]
  },
  {
   "cell_type": "code",
   "execution_count": 39,
   "id": "140794d9-ac4c-4fa2-a160-c7efef49119d",
   "metadata": {},
   "outputs": [
    {
     "name": "stdout",
     "output_type": "stream",
     "text": [
      "APPEND Function\n",
      "MyList list [] and Length = 0\n",
      "MyList list ['A', 'B', 'C', 'D', 'E'] and Length = 5\n"
     ]
    }
   ],
   "source": [
    "print(\"APPEND Function\")\n",
    "alphaList=[]\n",
    "print(\"MyList list {} and Length = {}\".format(alphaList,len(alphaList)))\n",
    "alphaList.append(\"A\")\n",
    "alphaList.append(\"B\")\n",
    "alphaList.append(\"C\")\n",
    "alphaList.append(\"D\")\n",
    "alphaList.append(\"E\")\n",
    "print(\"MyList list {} and Length = {}\".format(alphaList,len(alphaList)))"
   ]
  },
  {
   "cell_type": "code",
   "execution_count": 37,
   "id": "89777bd2-5934-4818-a39a-a73eac8d704c",
   "metadata": {},
   "outputs": [
    {
     "name": "stdout",
     "output_type": "stream",
     "text": [
      "COPY Function\n",
      "MyList list ['A', 20, 30.6, (10+3j), True, [4, 5, 6], 'A', 20, 30.6, (10+3j), True, [4, 5, 6], 'A', 20, 30.6, (10+3j), True, [4, 5, 6], 'A', 20, 30.6, (10+3j), True, [4, 5, 6], 'A', 20, 30.6, (10+3j), True, [4, 5, 6], 'A', 20, 30.6, (10+3j), True, [4, 5, 6], 'A', 20, 30.6, (10+3j), True, [4, 5, 6], 'A', 20, 30.6, (10+3j), True, [4, 5, 6], 'A', 20, 30.6, (10+3j), True, [4, 5, 6], 'A', 20, 30.6, (10+3j), True, [4, 5, 6], 'A', 20, 30.6, (10+3j), True, [4, 5, 6], 'A', 20, 30.6, (10+3j), True, [4, 5, 6]] and Length = 72\n",
      "MyList list ['A', 20, 30.6, (10+3j), True, [4, 5, 6], 'A', 20, 30.6, (10+3j), True, [4, 5, 6], 'A', 20, 30.6, (10+3j), True, [4, 5, 6], 'A', 20, 30.6, (10+3j), True, [4, 5, 6], 'A', 20, 30.6, (10+3j), True, [4, 5, 6], 'A', 20, 30.6, (10+3j), True, [4, 5, 6], 'A', 20, 30.6, (10+3j), True, [4, 5, 6], 'A', 20, 30.6, (10+3j), True, [4, 5, 6], 'A', 20, 30.6, (10+3j), True, [4, 5, 6], 'A', 20, 30.6, (10+3j), True, [4, 5, 6], 'A', 20, 30.6, (10+3j), True, [4, 5, 6], 'A', 20, 30.6, (10+3j), True, [4, 5, 6]] and Length = 72\n",
      "\n",
      "\n",
      "Address of list = 2083811930048 and Address of copylist 2083811930048\n",
      "\n",
      "\n",
      "MyList list ['A', 20, 30.6, (10+3j), True, [4, 5, 6], 'A', 20, 30.6, (10+3j), True, [4, 5, 6], 'A', 20, 30.6, (10+3j), True, [4, 5, 6], 'A', 20, 30.6, (10+3j), True, [4, 5, 6], 'A', 20, 30.6, (10+3j), True, [4, 5, 6], 'A', 20, 30.6, (10+3j), True, [4, 5, 6], 'A', 20, 30.6, (10+3j), True, [4, 5, 6], 'A', 20, 30.6, (10+3j), True, [4, 5, 6], 'A', 20, 30.6, (10+3j), True, [4, 5, 6], 'A', 20, 30.6, (10+3j), True, [4, 5, 6], 'A', 20, 30.6, (10+3j), True, [4, 5, 6], 'A', 20, 30.6, (10+3j), True, [4, 5, 6]] and Length = 72\n",
      "\n",
      "\n",
      "Address of list = 2083811930048 and Address of copylist 2083813321088\n"
     ]
    }
   ],
   "source": [
    "print(\"COPY Function\")\n",
    "myList.append(\"A\")\n",
    "myList.append(20)\n",
    "myList.append(30.6)\n",
    "myList.append(10+3j)\n",
    "myList.append(True)\n",
    "myList.append([4,5,6])\n",
    "print(\"MyList list {} and Length = {}\".format(myList,len(myList)))\n",
    "\n",
    "copyList = myList\n",
    "print(\"MyList list {} and Length = {}\".format(copyList,len(copyList)))\n",
    "print(\"\\n\\nAddress of list = {} and Address of copylist {}\".format(id(myList),id(copyList)))\n",
    "\n",
    "copyList = myList.copy()\n",
    "print(\"\\n\\nMyList list {} and Length = {}\".format(copyList,len(copyList)))\n",
    "print(\"\\n\\nAddress of list = {} and Address of copylist {}\".format(id(myList),id(copyList)))"
   ]
  },
  {
   "cell_type": "code",
   "execution_count": 36,
   "id": "37b2a98c-796e-41ac-845c-c6cf1de9c710",
   "metadata": {},
   "outputs": [
    {
     "name": "stdout",
     "output_type": "stream",
     "text": [
      "MyList list ['A', 20, 30.6, (10+3j), True, 20, [4, 5, 6]] and Length = 7\n",
      "MyList after removing list ['A', 30.6, (10+3j), True, 20, [4, 5, 6]] and Length = 6\n"
     ]
    }
   ],
   "source": [
    "print(\"REMOVE function\")\n",
    "list = []\n",
    "list.append(\"A\")\n",
    "list.append(20)\n",
    "list.append(30.6)\n",
    "list.append(10+3j)\n",
    "list.append(True)\n",
    "list.append(20)\n",
    "list.append([4,5,6])\n",
    "print(\"MyList list {} and Length = {}\".format(list,len(list)))\n",
    "list.remove(20)\n",
    "print(\"MyList after removing list {} and Length = {}\".format(list,len(list)))"
   ]
  },
  {
   "cell_type": "code",
   "execution_count": 42,
   "id": "1f354d64-3303-4534-a4ae-fa396f1abb0a",
   "metadata": {},
   "outputs": [
    {
     "name": "stdout",
     "output_type": "stream",
     "text": [
      "LIST INDEXING and SLICING\n",
      "N\n",
      "a\n",
      "r\n",
      "e\n",
      "s\n",
      "h\n"
     ]
    },
    {
     "data": {
      "text/plain": [
       "'BCDE'"
      ]
     },
     "execution_count": 42,
     "metadata": {},
     "output_type": "execute_result"
    }
   ],
   "source": [
    "print(\"LIST INDEXING and SLICING\")\n",
    "myStr = \"Naresh\"\n",
    "for item in myStr:\n",
    "    print(item)\n",
    "\n",
    "myStr = 'ABCDEFGHI'\n",
    "myStr[0:9]\n",
    "myStr[1:8]\n",
    "myStr[1:-3]\n",
    "myStr[1:-4]"
   ]
  },
  {
   "cell_type": "code",
   "execution_count": 55,
   "id": "6f1b9ab7-cb3f-4a94-bef1-39fcf43ebb87",
   "metadata": {},
   "outputs": [
    {
     "name": "stdout",
     "output_type": "stream",
     "text": [
      "Input String ABCDEFGHI After step slicing with [0:9:2] = ACEGI \n"
     ]
    }
   ],
   "source": [
    "myStr = 'ABCDEFGHI'\n",
    "print(\"Input String {} After step slicing with [0:9:2] = {} \".format(myStr,myStr[0:9:2]))"
   ]
  },
  {
   "cell_type": "code",
   "execution_count": 51,
   "id": "c83092ba-8040-467e-9ad9-097e2e45aecd",
   "metadata": {},
   "outputs": [
    {
     "name": "stdout",
     "output_type": "stream",
     "text": [
      "For input of [1, 2, 3, 4, 5, 6, 7, 8, 9, 10] after slicing with [0:10:4] = [1, 5, 9]\n"
     ]
    }
   ],
   "source": [
    "input = [1,2,3,4,5,6,7,8,9,10]\n",
    "print(\"For input of {} after slicing with [0:10:4] = {}\".format(input,input[0:10:4]))"
   ]
  },
  {
   "cell_type": "code",
   "execution_count": 52,
   "id": "4e396e5a-770e-473a-b6e6-2bbd1594bd3b",
   "metadata": {},
   "outputs": [
    {
     "name": "stdout",
     "output_type": "stream",
     "text": [
      "For input of [1, 2, 3, 4, 5, 6, 7, 8, 9, 10] after slicing with [0:10:5] = [1, 5, 9]\n"
     ]
    }
   ],
   "source": [
    "input = [1,2,3,4,5,6,7,8,9,10]\n",
    "print(\"For input of {} after slicing with [0:10:5] = {}\".format(input,input[0:10:4]))"
   ]
  },
  {
   "cell_type": "code",
   "execution_count": null,
   "id": "218921d2-5b9c-44f8-8006-272eb5ca5f14",
   "metadata": {},
   "outputs": [],
   "source": []
  }
 ],
 "metadata": {
  "kernelspec": {
   "display_name": "Python 3 (ipykernel)",
   "language": "python",
   "name": "python3"
  },
  "language_info": {
   "codemirror_mode": {
    "name": "ipython",
    "version": 3
   },
   "file_extension": ".py",
   "mimetype": "text/x-python",
   "name": "python",
   "nbconvert_exporter": "python",
   "pygments_lexer": "ipython3",
   "version": "3.12.7"
  }
 },
 "nbformat": 4,
 "nbformat_minor": 5
}
