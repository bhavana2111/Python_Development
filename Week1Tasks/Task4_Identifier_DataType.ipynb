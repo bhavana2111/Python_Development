{
 "cells": [
  {
   "cell_type": "code",
   "execution_count": 5,
   "id": "a0a22219-0a6a-4650-ada8-ac75b9e2772c",
   "metadata": {},
   "outputs": [
    {
     "name": "stdout",
     "output_type": "stream",
     "text": [
      "Keywords list in Python is --->\n",
      " ['False', 'None', 'True', 'and', 'as', 'assert', 'async', 'await', 'break', 'class', 'continue', 'def', 'del', 'elif', 'else', 'except', 'finally', 'for', 'from', 'global', 'if', 'import', 'in', 'is', 'lambda', 'nonlocal', 'not', 'or', 'pass', 'raise', 'return', 'try', 'while', 'with', 'yield'] \n",
      "\n",
      "Length of list if 35\n"
     ]
    }
   ],
   "source": [
    "import keyword\n",
    "#Print keywords\n",
    "print(f\"Keywords list in Python is --->\\n {keyword.kwlist} \\n\\nLength of list if {len(keyword.kwlist)}\")"
   ]
  },
  {
   "cell_type": "code",
   "execution_count": 7,
   "id": "dd3a8521-613b-4a61-aaf6-e7234c9ffaa5",
   "metadata": {},
   "outputs": [
    {
     "ename": "SyntaxError",
     "evalue": "invalid decimal literal (1038837529.py, line 4)",
     "output_type": "error",
     "traceback": [
      "\u001b[1;36m  Cell \u001b[1;32mIn[7], line 4\u001b[1;36m\u001b[0m\n\u001b[1;33m    1var =100\u001b[0m\n\u001b[1;37m    ^\u001b[0m\n\u001b[1;31mSyntaxError\u001b[0m\u001b[1;31m:\u001b[0m invalid decimal literal\n"
     ]
    }
   ],
   "source": [
    "# Identifiers defining in Python\n",
    "\n",
    "print(\"**************RULE 1: Identifiers cannot start with number********************\")\n",
    "1var =100\n"
   ]
  },
  {
   "cell_type": "code",
   "execution_count": 9,
   "id": "b8d736dc-1e3e-4e92-9b57-1b4cb8e6c1b5",
   "metadata": {},
   "outputs": [
    {
     "ename": "SyntaxError",
     "evalue": "invalid syntax. Maybe you meant '==' or ':=' instead of '='? (2545293242.py, line 2)",
     "output_type": "error",
     "traceback": [
      "\u001b[1;36m  Cell \u001b[1;32mIn[9], line 2\u001b[1;36m\u001b[0m\n\u001b[1;33m    @var=100\u001b[0m\n\u001b[1;37m     ^\u001b[0m\n\u001b[1;31mSyntaxError\u001b[0m\u001b[1;31m:\u001b[0m invalid syntax. Maybe you meant '==' or ':=' instead of '='?\n"
     ]
    }
   ],
   "source": [
    "print(\"**************RULE 2: Identifiers cannot have special symbols except _********************\")\n",
    "@var=100\n"
   ]
  },
  {
   "cell_type": "code",
   "execution_count": 8,
   "id": "ba33652a-89c5-49a6-ad42-6539ae70d943",
   "metadata": {},
   "outputs": [],
   "source": [
    "_var=100"
   ]
  },
  {
   "cell_type": "code",
   "execution_count": null,
   "id": "086b20d8-3b23-489f-9407-2a484d723b39",
   "metadata": {},
   "outputs": [],
   "source": [
    "# Is used for commenting\n",
    "#var=100"
   ]
  },
  {
   "cell_type": "code",
   "execution_count": 10,
   "id": "0a7e1521-c891-4f31-9bfd-19da35b29d95",
   "metadata": {},
   "outputs": [
    {
     "ename": "SyntaxError",
     "evalue": "invalid syntax (2268445795.py, line 2)",
     "output_type": "error",
     "traceback": [
      "\u001b[1;36m  Cell \u001b[1;32mIn[10], line 2\u001b[1;36m\u001b[0m\n\u001b[1;33m    else = 100\u001b[0m\n\u001b[1;37m    ^\u001b[0m\n\u001b[1;31mSyntaxError\u001b[0m\u001b[1;31m:\u001b[0m invalid syntax\n"
     ]
    }
   ],
   "source": [
    "print(\"**************RULE 3: Inbuilt keywords cannot be used to name identifiers ********************\")\n",
    "else = 100"
   ]
  },
  {
   "cell_type": "code",
   "execution_count": 14,
   "id": "bddf5266-9ddf-4179-8f77-73e18aacb18c",
   "metadata": {},
   "outputs": [
    {
     "name": "stdout",
     "output_type": "stream",
     "text": [
      "Single Line Comments\n",
      "Multi line comments\n"
     ]
    },
    {
     "data": {
      "text/plain": [
       "'\\nThis is a Multiple line comment\\nAny lines here will not cause any compilation error\\nLet us execute and check\\n'"
      ]
     },
     "execution_count": 14,
     "metadata": {},
     "output_type": "execute_result"
    }
   ],
   "source": [
    "# Comments in Python\n",
    "print(\"Single Line Comments\")\n",
    "# This is a single line comment\n",
    "print(\"Multi line comments\")\n",
    "# This is a\n",
    "# Multiple line\n",
    "# Comment\n",
    "# Multi line comments\n",
    "\"\"\"\n",
    "This is a Multiple line comment\n",
    "Any lines here will not cause any compilation error\n",
    "Let us execute and check\n",
    "\"\"\"\n"
   ]
  },
  {
   "cell_type": "code",
   "execution_count": 18,
   "id": "dc99a124-d89c-4598-91fe-2e9521aac85a",
   "metadata": {},
   "outputs": [
    {
     "data": {
      "text/plain": [
       "(10,\n",
       " int,\n",
       " '0x7ff9b9c22ad8',\n",
       " 'This is a statement',\n",
       " str,\n",
       " '0x18ecf403d70',\n",
       " 70.8,\n",
       " '0x18ecf3cceb0',\n",
       " float)"
      ]
     },
     "execution_count": 18,
     "metadata": {},
     "output_type": "execute_result"
    }
   ],
   "source": [
    "number = 10\n",
    "statement = \"This is a statement\"\n",
    "decimal = 70.8\n",
    "number, type(number),hex(id(number)),statement, type(statement),hex(id(statement)),decimal,hex(id(decimal)),type(decimal)"
   ]
  },
  {
   "cell_type": "code",
   "execution_count": 22,
   "id": "e400f115-fe8a-474d-8b37-df2c97c11d24",
   "metadata": {},
   "outputs": [
    {
     "name": "stdout",
     "output_type": "stream",
     "text": [
      "Immutability in PYTHON\n",
      "Address of var1 is 0x7ff9b9c23618\n",
      "Changing value of var1\n",
      "Address of var1 is 0x7ff9b9c24298\n"
     ]
    }
   ],
   "source": [
    "# Immutability in PYTHON\n",
    "print(\"Immutability in PYTHON\")\n",
    "var1 =100\n",
    "print(f\"Address of var1 is {hex(id(var1))}\")\n",
    "print(\"Changing value of var1\")\n",
    "var1 =200\n",
    "print(f\"Address of var1 is changed to {hex(id(var1))}\")"
   ]
  },
  {
   "cell_type": "code",
   "execution_count": 3,
   "id": "058bb4e4-c279-4d4b-b977-de6ed0abd29e",
   "metadata": {},
   "outputs": [
    {
     "name": "stdout",
     "output_type": "stream",
     "text": [
      "Variable Assignment\n",
      "10\n",
      "20.89\n",
      "This is a Python string\n",
      "\n",
      " Multiple Variable Assignment\n",
      "20\n",
      "78.9\n",
      "Multiple assignments\n",
      "\n",
      " Multiple Variable Assignment to same value\n",
      "20\n",
      "20\n",
      "20\n"
     ]
    }
   ],
   "source": [
    "#Variable Assignment\n",
    "print(\"Variable Assignment\")\n",
    "intVar = 10\n",
    "floatVar = 20.89\n",
    "strVar = \"This is a Python string\"\n",
    "print(intVar)\n",
    "print(floatVar)\n",
    "print(strVar)\n",
    "\n",
    "print(\"\\n Multiple Variable Assignment\")\n",
    "intVar,floatVar,strVar = 20,78.9, \"Multiple assignments\"\n",
    "print(intVar)\n",
    "print(floatVar)\n",
    "print(strVar)\n",
    "\n",
    "print(\"\\n Multiple Variable Assignment to same value\")\n",
    "intVar=floatVar=strVar = 20\n",
    "print(intVar)\n",
    "print(floatVar)\n",
    "print(strVar)"
   ]
  },
  {
   "cell_type": "code",
   "execution_count": 14,
   "id": "026b43dd-c74e-4db7-9986-ee1cb6d679a2",
   "metadata": {},
   "outputs": [
    {
     "name": "stdout",
     "output_type": "stream",
     "text": [
      "int DATA TYPE\n",
      "TYpe of var1 is  <class 'int'>\n",
      "Address of var1 is 10\n",
      "Size if Integer object is 28\n",
      "10  Is an Integer ?  True\n",
      "Size of int objects =  28\n"
     ]
    }
   ],
   "source": [
    "# DATA TYPES IN PYTHON\n",
    "import sys\n",
    "print(\"int DATA TYPE\")\n",
    "val1 = 10\n",
    "print(\"TYpe of var1 is \",type(val1))\n",
    "print(f\"Address of var1 is {val1}\")\n",
    "print(\"Size if Integer object is {}\".format(sys.getsizeof(val1)))\n",
    "print(val1, \" Is an Integer ? \",isinstance(val1,int))\n",
    "print(\"Size of int objects = \",sys.getsizeof(int()))"
   ]
  },
  {
   "cell_type": "code",
   "execution_count": 16,
   "id": "bc5f4c3f-9c60-4545-a124-f78963ae4d2e",
   "metadata": {},
   "outputs": [
    {
     "name": "stdout",
     "output_type": "stream",
     "text": [
      "Float DATA TYPE\n",
      "Type of var1 is  <class 'float'>\n",
      "Address of var1 is 19.76\n",
      "Size if Float object is 24\n",
      "19.76  Is a Float ?  True\n",
      "Size of float objects =  24\n"
     ]
    }
   ],
   "source": [
    "import sys\n",
    "print(\"Float DATA TYPE\")\n",
    "val1 = 19.76\n",
    "print(\"Type of var1 is \",type(val1))\n",
    "print(f\"Address of var1 is {val1}\")\n",
    "print(\"Size if Float object is {}\".format(sys.getsizeof(val1)))\n",
    "print(val1, \" Is a Float ? \",isinstance(val1,float))\n",
    "print(\"Size of float objects = \",sys.getsizeof(float()))"
   ]
  },
  {
   "cell_type": "code",
   "execution_count": 15,
   "id": "1638b4cd-f827-4ae3-8b33-d9b9625d4535",
   "metadata": {},
   "outputs": [
    {
     "name": "stdout",
     "output_type": "stream",
     "text": [
      "Complex DATA TYPE\n",
      "Type of var1 is  <class 'complex'>\n",
      "Address of var1 is (19+76j)\n",
      "Size if Complex object is 32\n",
      "(19+76j)  Is a Complex ?  True\n",
      "Size of coomplex objects =  32\n"
     ]
    }
   ],
   "source": [
    "import sys\n",
    "print(\"Complex DATA TYPE\")\n",
    "val1 = 19+76j\n",
    "print(\"Type of var1 is \",type(val1))\n",
    "print(f\"Address of var1 is {val1}\")\n",
    "print(\"Size if Complex object is {}\".format(sys.getsizeof(val1)))\n",
    "print(val1, \" Is a Complex ? \",isinstance(val1,complex))\n",
    "print(\"Size of coomplex objects = \",sys.getsizeof(complex()))"
   ]
  },
  {
   "cell_type": "code",
   "execution_count": 20,
   "id": "f80a0051-5e85-49dd-9eb6-b1092a1df265",
   "metadata": {},
   "outputs": [
    {
     "name": "stdout",
     "output_type": "stream",
     "text": [
      "Boolean DATA TYPE\n",
      "Type of var1 is <class 'bool'> and val2 is <class 'bool'> \n",
      "Address of val1 is True\n",
      "Size if Boolean object is 28\n",
      "True  Is a Boolean ?  True\n",
      "Size of boolean objects =  28\n",
      "False\n",
      "False\n",
      "True\n",
      "True\n"
     ]
    }
   ],
   "source": [
    "import sys\n",
    "print(\"Boolean DATA TYPE\")\n",
    "val1 = True\n",
    "val2 = False\n",
    "print(\"Type of var1 is {} and val2 is {} \".format(type(val1),type(val2)))\n",
    "print(f\"Address of val1 is {val1}\")\n",
    "print(\"Size if Boolean object is {}\".format(sys.getsizeof(val1)))\n",
    "print(val1, \" Is a Boolean ? \",isinstance(val1,bool))\n",
    "print(\"Size of boolean objects = \",sys.getsizeof(bool()))\n",
    "\n",
    "\n",
    "print(bool(0))\n",
    "print(bool(False))\n",
    "print(bool(1))\n",
    "print(bool(True))"
   ]
  },
  {
   "cell_type": "code",
   "execution_count": 27,
   "id": "0dc03d96-583a-41b3-9b23-44501d2560c1",
   "metadata": {},
   "outputs": [
    {
     "name": "stdout",
     "output_type": "stream",
     "text": [
      "String DATA TYPE\n",
      "Hello Python Single Quotes\n",
      "Hello Python Double Quotes\n",
      " Triple Quotes\n",
      "            in Python language\n",
      " Triple Quotes\n",
      "            in Python language\n",
      "Writing in multiple lines.\n",
      "Multiple Multiple Multiple Multiple Multiple Multiple Multiple Multiple Multiple Multiple \n"
     ]
    }
   ],
   "source": [
    "print(\"String DATA TYPE\")\n",
    "str1 = 'Hello Python Single Quotes'\n",
    "print(str1)\n",
    "\n",
    "str2 = \"Hello Python Double Quotes\"\n",
    "print(str2)\n",
    "\n",
    "str3 = ''' Triple Quotes\n",
    "            in Python language'''\n",
    "print(str3)\n",
    "\n",
    "str4 = \"\"\" Triple Quotes\n",
    "            in Python language\"\"\"\n",
    "print(str4)\n",
    "\n",
    "str5 = ('Writing '\n",
    "        'in '\n",
    "        'multiple '\n",
    "        'lines.')\n",
    "print(str5)\n",
    "\n",
    "str6 = \"Multiple \"\n",
    "print(str6 * 10)\n",
    "\n"
   ]
  },
  {
   "cell_type": "code",
   "execution_count": 54,
   "id": "0f3edf4d-50b7-4996-8132-945eec7dbf17",
   "metadata": {},
   "outputs": [
    {
     "name": "stdout",
     "output_type": "stream",
     "text": [
      "STRING INDEXING IN PYTHON\n",
      "WELCOME TO THE WORLD OF PYTHON\n",
      "\n",
      "At first index the character present is W\n",
      "\n",
      "At last index the character present is N\n",
      "\n",
      "At Index 5 the character present is M\n",
      "\n",
      "At Index -5 the character present is Y\n",
      "\n",
      "The string between indices 0 to 7 is WELCOME\n",
      "\n",
      "The string between indices 0 to 7 is WELCOME\n",
      "\n",
      "The string between indices 15 to 21 is WORLD \n",
      "\n",
      "The string between indices 0 to 21 is WELCOME TO THE WORLD \n",
      "\n",
      "The FIRST 6 characters of the string is WELCOM\n",
      "\n",
      "The FIRST 15 characters of the string is WELCOME TO THE \n",
      "\n",
      "The LAST 6 characters of the string is PYTHON\n",
      "\n",
      "The LAST 15 characters of the string is WORLD OF PYTHON\n"
     ]
    },
    {
     "ename": "TypeError",
     "evalue": "'str' object does not support item assignment",
     "output_type": "error",
     "traceback": [
      "\u001b[1;31m---------------------------------------------------------------------------\u001b[0m",
      "\u001b[1;31mTypeError\u001b[0m                                 Traceback (most recent call last)",
      "Cell \u001b[1;32mIn[54], line 20\u001b[0m\n\u001b[0;32m     17\u001b[0m \u001b[38;5;28mprint\u001b[39m(\u001b[38;5;124m\"\u001b[39m\u001b[38;5;130;01m\\n\u001b[39;00m\u001b[38;5;124mThe LAST 6 characters of the string is \u001b[39m\u001b[38;5;132;01m{}\u001b[39;00m\u001b[38;5;124m\"\u001b[39m\u001b[38;5;241m.\u001b[39mformat(myString[\u001b[38;5;241m-\u001b[39m\u001b[38;5;241m6\u001b[39m:]))\n\u001b[0;32m     18\u001b[0m \u001b[38;5;28mprint\u001b[39m(\u001b[38;5;124m\"\u001b[39m\u001b[38;5;130;01m\\n\u001b[39;00m\u001b[38;5;124mThe LAST 15 characters of the string is \u001b[39m\u001b[38;5;132;01m{}\u001b[39;00m\u001b[38;5;124m\"\u001b[39m\u001b[38;5;241m.\u001b[39mformat(myString[\u001b[38;5;241m-\u001b[39m\u001b[38;5;241m15\u001b[39m:]))\n\u001b[1;32m---> 20\u001b[0m myString[\u001b[38;5;241m0\u001b[39m:\u001b[38;5;241m5\u001b[39m] \u001b[38;5;241m=\u001b[39m \u001b[38;5;124m\"\u001b[39m\u001b[38;5;124mUPDATE THE PYTHON STRING\u001b[39m\u001b[38;5;124m\"\u001b[39m\n\u001b[0;32m     21\u001b[0m \u001b[38;5;28mprint\u001b[39m(myString)\n\u001b[0;32m     23\u001b[0m \u001b[38;5;28;01mdel\u001b[39;00m myString\n",
      "\u001b[1;31mTypeError\u001b[0m: 'str' object does not support item assignment"
     ]
    }
   ],
   "source": [
    "print(\"STRING INDEXING IN PYTHON\")\n",
    "\n",
    "myString = \"WELCOME TO THE WORLD OF PYTHON\"\n",
    "print(myString)\n",
    "print(\"\\nAt first index the character present is {}\".format(myString[0]))\n",
    "print(\"\\nAt last index the character present is {}\".format(myString[len(myString)-1]))\n",
    "print(\"\\nAt Index {} the character present is {}\".format(5,myString[5]))\n",
    "print(\"\\nAt Index {} the character present is {}\".format(-5,myString[-5]))\n",
    "\n",
    "print(\"\\nThe string between indices 0 to 7 is {}\".format(myString[0:7]))\n",
    "print(\"\\nThe string between indices 0 to 7 is {}\".format(myString[:7]))\n",
    "print(\"\\nThe string between indices 15 to 21 is {}\".format(myString[15:21]))\n",
    "print(\"\\nThe string between indices 0 to 21 is {}\".format(myString[0:21]))\n",
    "\n",
    "print(\"\\nThe FIRST 6 characters of the string is {}\".format(myString[:6]))\n",
    "print(\"\\nThe FIRST 15 characters of the string is {}\".format(myString[:15]))\n",
    "print(\"\\nThe LAST 6 characters of the string is {}\".format(myString[-6:]))\n",
    "print(\"\\nThe LAST 15 characters of the string is {}\".format(myString[-15:]))\n",
    "\n",
    "myString[0:5] = \"UPDATE THE PYTHON STRING\"\n",
    "print(myString)\n",
    "\n",
    "del myString\n",
    "print(myString)"
   ]
  },
  {
   "cell_type": "code",
   "execution_count": 55,
   "id": "91e7faab-f617-4ac1-a91e-fb6c00d963db",
   "metadata": {},
   "outputs": [
    {
     "name": "stdout",
     "output_type": "stream",
     "text": [
      "UPDATE THE PYTHON STRING\n"
     ]
    },
    {
     "ename": "NameError",
     "evalue": "name 'myString' is not defined",
     "output_type": "error",
     "traceback": [
      "\u001b[1;31m---------------------------------------------------------------------------\u001b[0m",
      "\u001b[1;31mNameError\u001b[0m                                 Traceback (most recent call last)",
      "Cell \u001b[1;32mIn[55], line 5\u001b[0m\n\u001b[0;32m      2\u001b[0m \u001b[38;5;28mprint\u001b[39m(myString)\n\u001b[0;32m      4\u001b[0m \u001b[38;5;28;01mdel\u001b[39;00m myString\n\u001b[1;32m----> 5\u001b[0m \u001b[38;5;28mprint\u001b[39m(myString)\n",
      "\u001b[1;31mNameError\u001b[0m: name 'myString' is not defined"
     ]
    }
   ],
   "source": [
    "myString = \"UPDATE THE PYTHON STRING\"\n",
    "print(myString)\n",
    "\n",
    "del myString\n",
    "print(myString)"
   ]
  },
  {
   "cell_type": "code",
   "execution_count": 57,
   "id": "ecf3a40e-605f-4284-85b0-872549c3ac11",
   "metadata": {},
   "outputs": [
    {
     "name": "stdout",
     "output_type": "stream",
     "text": [
      "CONCATENATE THE PYTHON STRING WITH THIS STATEMENT\n"
     ]
    }
   ],
   "source": [
    "myString1 = \"CONCATENATE THE PYTHON STRING\"\n",
    "myString2 = \" WITH THIS STATEMENT.\"\n",
    "print(myString1 + myString2)\n"
   ]
  },
  {
   "cell_type": "code",
   "execution_count": null,
   "id": "e3006c76-7161-4a65-8e74-2f5e2428f8e7",
   "metadata": {},
   "outputs": [],
   "source": []
  }
 ],
 "metadata": {
  "kernelspec": {
   "display_name": "Python 3 (ipykernel)",
   "language": "python",
   "name": "python3"
  },
  "language_info": {
   "codemirror_mode": {
    "name": "ipython",
    "version": 3
   },
   "file_extension": ".py",
   "mimetype": "text/x-python",
   "name": "python",
   "nbconvert_exporter": "python",
   "pygments_lexer": "ipython3",
   "version": "3.12.7"
  }
 },
 "nbformat": 4,
 "nbformat_minor": 5
}
