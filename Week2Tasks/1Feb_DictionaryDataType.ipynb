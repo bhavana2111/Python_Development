{
 "cells": [
  {
   "cell_type": "code",
   "execution_count": 4,
   "id": "873029f1-3b14-4c88-8876-4b7616d16299",
   "metadata": {},
   "outputs": [
    {
     "name": "stdout",
     "output_type": "stream",
     "text": [
      "{}\n",
      "{}\n"
     ]
    },
    {
     "data": {
      "text/plain": [
       "dict"
      ]
     },
     "execution_count": 4,
     "metadata": {},
     "output_type": "execute_result"
    }
   ],
   "source": [
    "emptyDict = {}\n",
    "print(emptyDict)\n",
    "emptyDict = dict()\n",
    "print(emptyDict)\n",
    "type(emptyDict)"
   ]
  },
  {
   "cell_type": "code",
   "execution_count": 6,
   "id": "5207b4ef-7f15-4099-b3c3-00fb679af40b",
   "metadata": {},
   "outputs": [
    {
     "name": "stdout",
     "output_type": "stream",
     "text": [
      "{0: 'zero', 1: 'one', 2: 'two', 3: 'three'}\n",
      "{0: 'zero', 1: 'one', 2: 'two', 3: 'three'}\n"
     ]
    }
   ],
   "source": [
    "myDict = {0:\"zero\",1:\"one\",2:\"two\",3:\"three\"}\n",
    "print(myDict)\n",
    "myDict = dict({0:\"zero\",1:\"one\",2:\"two\",3:\"three\"})\n",
    "print(myDict)"
   ]
  },
  {
   "cell_type": "code",
   "execution_count": 8,
   "id": "d43094b0-e00f-449f-96a3-32ffc0de7f85",
   "metadata": {},
   "outputs": [
    {
     "name": "stdout",
     "output_type": "stream",
     "text": [
      "{0: 'zero', 1: 'one', 2: 'two', 3: 'three', 'girl': 'Priya', 'boy': 'Priyansh'}\n"
     ]
    }
   ],
   "source": [
    "myDict = dict({0:\"zero\",1:\"one\",2:\"two\",3:\"three\",\"girl\":\"Priya\",\"boy\":\"Priyansh\"})\n",
    "print(myDict)"
   ]
  },
  {
   "cell_type": "code",
   "execution_count": 10,
   "id": "ede377e8-1344-4de0-9c5d-69c19861e31a",
   "metadata": {},
   "outputs": [
    {
     "name": "stdout",
     "output_type": "stream",
     "text": [
      "dict_keys([0, 1, 2, 3, 'girl', 'boy'])\n",
      "dict_values(['zero', 'one', 'two', 'three', 'Priya', 'Priyansh'])\n",
      "dict_items([(0, 'zero'), (1, 'one'), (2, 'two'), (3, 'three'), ('girl', 'Priya'), ('boy', 'Priyansh')])\n"
     ]
    }
   ],
   "source": [
    "myDict = dict({0:\"zero\",1:\"one\",2:\"two\",3:\"three\",\"girl\":\"Priya\",\"boy\":\"Priyansh\"})\n",
    "print(myDict.keys())\n",
    "print(myDict.values())\n",
    "print(myDict.items())"
   ]
  },
  {
   "cell_type": "code",
   "execution_count": 11,
   "id": "9d77292f-1d06-4c09-b27e-c647864ed814",
   "metadata": {},
   "outputs": [
    {
     "name": "stdout",
     "output_type": "stream",
     "text": [
      "dict_keys([0, 1, 2, 3, 'girl', 'boy'])\n",
      "dict_values(['zero', 'one', 'two', 'three', ['Priya', 'Riya', 'Maya'], ['Priyansh', 'Riyansh', 'Medhansh']])\n",
      "dict_items([(0, 'zero'), (1, 'one'), (2, 'two'), (3, 'three'), ('girl', ['Priya', 'Riya', 'Maya']), ('boy', ['Priyansh', 'Riyansh', 'Medhansh'])])\n"
     ]
    }
   ],
   "source": [
    "myDict = dict({0:\"zero\",1:\"one\",2:\"two\",3:\"three\",\"girl\":[\"Priya\",\"Riya\",\"Maya\"],\"boy\":[\"Priyansh\",\"Riyansh\",\"Medhansh\"]})\n",
    "print(myDict.keys())\n",
    "print(myDict.values())\n",
    "print(myDict.items())"
   ]
  },
  {
   "cell_type": "code",
   "execution_count": 12,
   "id": "1a9a04a3-cda7-4542-b7ca-c4dfa0112e60",
   "metadata": {},
   "outputs": [
    {
     "name": "stdout",
     "output_type": "stream",
     "text": [
      "dict_keys([0, 1, 2, 3, 'girl', 'boy'])\n",
      "dict_values(['zero', 'one', 'two', 'three', ('Priya', 'Riya', 'Maya'), ('Priyansh', 'Riyansh', 'Medhansh')])\n",
      "dict_items([(0, 'zero'), (1, 'one'), (2, 'two'), (3, 'three'), ('girl', ('Priya', 'Riya', 'Maya')), ('boy', ('Priyansh', 'Riyansh', 'Medhansh'))])\n"
     ]
    }
   ],
   "source": [
    "myDict = dict({0:\"zero\",1:\"one\",2:\"two\",3:\"three\",\"girl\":(\"Priya\",\"Riya\",\"Maya\"),\"boy\":(\"Priyansh\",\"Riyansh\",\"Medhansh\")})\n",
    "print(myDict.keys())\n",
    "print(myDict.values())\n",
    "print(myDict.items())"
   ]
  },
  {
   "cell_type": "code",
   "execution_count": 13,
   "id": "ea30af3d-0997-40ad-9ad9-d0cb65d82c44",
   "metadata": {},
   "outputs": [
    {
     "name": "stdout",
     "output_type": "stream",
     "text": [
      "dict_keys([0, 1, 2, 3, 'girl', 'boy'])\n",
      "dict_values(['zero', 'one', 'two', 'three', {'Priya', 'Riya', 'Maya'}, {'Medhansh', 'Priyansh', 'Riyansh'}])\n",
      "dict_items([(0, 'zero'), (1, 'one'), (2, 'two'), (3, 'three'), ('girl', {'Priya', 'Riya', 'Maya'}), ('boy', {'Medhansh', 'Priyansh', 'Riyansh'})])\n"
     ]
    }
   ],
   "source": [
    "myDict = dict({0:\"zero\",1:\"one\",2:\"two\",3:\"three\",\"girl\":{\"Priya\",\"Riya\",\"Maya\"},\"boy\":{\"Priyansh\",\"Riyansh\",\"Medhansh\"}})\n",
    "print(myDict.keys())\n",
    "print(myDict.values())\n",
    "print(myDict.items())"
   ]
  },
  {
   "cell_type": "code",
   "execution_count": 14,
   "id": "783ac4bc-3bce-4601-a4c1-82e50bf7a9dc",
   "metadata": {},
   "outputs": [
    {
     "name": "stdout",
     "output_type": "stream",
     "text": [
      "{'2': None, '3': None, '0': None, '1': None, '4': None}\n"
     ]
    }
   ],
   "source": [
    "dictFromKeys = dict.fromkeys({'0','1','2','3','4'})\n",
    "print(dictFromKeys)"
   ]
  },
  {
   "cell_type": "code",
   "execution_count": 18,
   "id": "048c9645-821f-4969-ac6b-518041728bb2",
   "metadata": {},
   "outputs": [
    {
     "name": "stdout",
     "output_type": "stream",
     "text": [
      "{'2': [1, 2, 3, 4, 5], '3': [1, 2, 3, 4, 5], '0': [1, 2, 3, 4, 5], '1': [1, 2, 3, 4, 5], '4': [1, 2, 3, 4, 5]}\n",
      "{'2': [1, 2, 3, 4, 5, 10], '3': [1, 2, 3, 4, 5, 10], '0': [1, 2, 3, 4, 5, 10], '1': [1, 2, 3, 4, 5, 10], '4': [1, 2, 3, 4, 5, 10]}\n"
     ]
    }
   ],
   "source": [
    "myList = [1,2,3,4,5]\n",
    "dictFromKeys = dict.fromkeys({'0','1','2','3','4'},myList)\n",
    "print(dictFromKeys)\n",
    "myList.append(10)\n",
    "print(dictFromKeys)\n"
   ]
  },
  {
   "cell_type": "code",
   "execution_count": 22,
   "id": "56b5f587-1459-49ff-959e-c69c4ffa55b8",
   "metadata": {},
   "outputs": [
    {
     "name": "stdout",
     "output_type": "stream",
     "text": [
      "2 ----> [1, 2, 3, 4, 5, 10]\n",
      "3 ----> [1, 2, 3, 4, 5, 10]\n",
      "0 ----> [1, 2, 3, 4, 5, 10]\n",
      "1 ----> [1, 2, 3, 4, 5, 10]\n",
      "4 ----> [1, 2, 3, 4, 5, 10]\n"
     ]
    }
   ],
   "source": [
    "for item in dictFromKeys:\n",
    "    print(item,\"---->\", dictFromKeys[item])"
   ]
  },
  {
   "cell_type": "code",
   "execution_count": 28,
   "id": "01655283-696e-41ae-abed-519dc1fab4e0",
   "metadata": {},
   "outputs": [
    {
     "data": {
      "text/plain": [
       "'zero'"
      ]
     },
     "execution_count": 28,
     "metadata": {},
     "output_type": "execute_result"
    }
   ],
   "source": [
    "myDict = {0:\"zero\",1:\"one\",2:\"two\",3:\"three\",\"girl\":{\"Priya\",\"Riya\",\"Maya\"},\"boy\":{\"Priyansh\",\"Riyansh\",\"Medhansh\"}}\n",
    "myDict[0]"
   ]
  },
  {
   "cell_type": "code",
   "execution_count": 37,
   "id": "aecf2d4e-720c-431a-b7f7-f53b8a89a290",
   "metadata": {},
   "outputs": [
    {
     "data": {
      "text/plain": [
       "'zero'"
      ]
     },
     "execution_count": 37,
     "metadata": {},
     "output_type": "execute_result"
    }
   ],
   "source": [
    "myDict = {0:\"zero\",1:\"one\",2:\"two\",3:\"three\",\"girl\":{\"Priya\",\"Riya\",\"Maya\"},\"boy\":{\"Priyansh\",\"Riyansh\",\"Medhansh\"}}\n",
    "myDict.get(0)\n"
   ]
  },
  {
   "cell_type": "code",
   "execution_count": 33,
   "id": "17aee297-a7af-49bc-80fa-7d64c99d7b27",
   "metadata": {},
   "outputs": [
    {
     "data": {
      "text/plain": [
       "{'Maya', 'Priya', 'Riya'}"
      ]
     },
     "execution_count": 33,
     "metadata": {},
     "output_type": "execute_result"
    }
   ],
   "source": [
    "myDict = {0:\"zero\",1:\"one\",2:\"two\",3:\"three\",\"girl\":{\"Priya\",\"Riya\",\"Maya\"},\"boy\":{\"Priyansh\",\"Riyansh\",\"Medhansh\"}}\n",
    "myDict[\"girl\"]"
   ]
  },
  {
   "cell_type": "code",
   "execution_count": 34,
   "id": "c93b3214-4200-4e60-b5ae-e486929cfafc",
   "metadata": {},
   "outputs": [
    {
     "data": {
      "text/plain": [
       "{'Maya', 'Priya', 'Riya'}"
      ]
     },
     "execution_count": 34,
     "metadata": {},
     "output_type": "execute_result"
    }
   ],
   "source": [
    "myDict = {0:\"zero\",1:\"one\",2:\"two\",3:\"three\",\"girl\":{\"Priya\",\"Riya\",\"Maya\"},\"boy\":{\"Priyansh\",\"Riyansh\",\"Medhansh\"}}\n",
    "myDict.get(\"girl\")"
   ]
  },
  {
   "cell_type": "code",
   "execution_count": 40,
   "id": "c6994f06-c7f2-4998-99bb-cf74e199a915",
   "metadata": {},
   "outputs": [
    {
     "data": {
      "text/plain": [
       "{0: 'zero',\n",
       " 1: 'one',\n",
       " 2: 'two',\n",
       " 3: 'three',\n",
       " 'girl': {'Maya', 'Priya', 'Riya'},\n",
       " 'boy': {'Medhansh', 'Priyansh', 'Riyansh'},\n",
       " 5: 'Five'}"
      ]
     },
     "execution_count": 40,
     "metadata": {},
     "output_type": "execute_result"
    }
   ],
   "source": [
    "myDict = {0:\"zero\",1:\"one\",2:\"two\",3:\"three\",\"girl\":{\"Priya\",\"Riya\",\"Maya\"},\"boy\":{\"Priyansh\",\"Riyansh\",\"Medhansh\"}}\n",
    "myDict.update({5:\"Five\"})\n",
    "myDict"
   ]
  },
  {
   "cell_type": "code",
   "execution_count": 42,
   "id": "2cf413cf-1b02-4c5f-9a9a-987edfd10b12",
   "metadata": {},
   "outputs": [
    {
     "data": {
      "text/plain": [
       "{0: 289,\n",
       " 1: 'one',\n",
       " 2: 'two',\n",
       " 3: 'three',\n",
       " 'girl': {'Maya', 'Priya', 'Riya'},\n",
       " 'boy': {'Medhansh', 'Priyansh', 'Riyansh'}}"
      ]
     },
     "execution_count": 42,
     "metadata": {},
     "output_type": "execute_result"
    }
   ],
   "source": [
    "myDict = {0:\"zero\",1:\"one\",2:\"two\",3:\"three\",\"girl\":{\"Priya\",\"Riya\",\"Maya\"},\"boy\":{\"Priyansh\",\"Riyansh\",\"Medhansh\"}}\n",
    "myDict[0] = 0x121\n",
    "myDict"
   ]
  },
  {
   "cell_type": "code",
   "execution_count": 47,
   "id": "da6fb07d-1aa7-4b98-a226-c7a152841863",
   "metadata": {},
   "outputs": [
    {
     "name": "stdout",
     "output_type": "stream",
     "text": [
      "{'team': 'Chennai Super Kings', 'captain': 'MS Dhoni', 'rank': 5, 'city': 'Chennai'}\n",
      "{'team': 'Chennai Super Kings', 'captain': 'Ruturaj Gaekwad', 'rank': 5, 'city': 'Chennai'}\n",
      "{'team': 'Chennai Super Kings', 'captain': 'Ruturaj Gaekwad', 'rank': 5, 'city': 'Chennai', 'owner': 'Bharti Cements'}\n",
      "{'team': 'Chennai Super Kings', 'captain': 'Ruturaj Gaekwad', 'rank': 5, 'city': 'Chennai', 'owner': 'Bharti Cements', 'vice_captain': 'Rohit'}\n"
     ]
    }
   ],
   "source": [
    "myDict = {\"team\":\"Chennai Super Kings\", \"captain\":\"MS Dhoni\",\"rank\":5,\"city\":\"Chennai\"}\n",
    "print(myDict)\n",
    "myDict[\"captain\"] = \"Ruturaj Gaekwad\"\n",
    "print(myDict)\n",
    "myDict.update({\"owner\":\"Bharti Cements\"})\n",
    "print(myDict)\n",
    "myDict[\"vice_captain\"] = \"Rohit\"\n",
    "print(myDict)"
   ]
  },
  {
   "cell_type": "code",
   "execution_count": 49,
   "id": "cdb0ccac-514d-447d-9fd1-33ff9eb4bcd5",
   "metadata": {},
   "outputs": [
    {
     "data": {
      "text/plain": [
       "'Rohit'"
      ]
     },
     "execution_count": 49,
     "metadata": {},
     "output_type": "execute_result"
    }
   ],
   "source": [
    "myDict = {'team': 'Chennai Super Kings', 'captain': 'Ruturaj Gaekwad', 'rank': 5, 'city': 'Chennai', 'owner': 'Bharti Cements', 'vice_captain': 'Rohit'}\n",
    "myDict.pop(\"vice_captain\")"
   ]
  },
  {
   "cell_type": "code",
   "execution_count": 52,
   "id": "c03993dd-9dd2-49fe-a975-61b1d494b378",
   "metadata": {},
   "outputs": [
    {
     "data": {
      "text/plain": [
       "('owner', 'Bharti Cements')"
      ]
     },
     "execution_count": 52,
     "metadata": {},
     "output_type": "execute_result"
    }
   ],
   "source": [
    "myDict = {'team': 'Chennai Super Kings', 'captain': 'Ruturaj Gaekwad', 'rank': 5, 'city': 'Chennai', 'owner': 'Bharti Cements'}\n",
    "myDict.popitem()"
   ]
  },
  {
   "cell_type": "code",
   "execution_count": 55,
   "id": "19b591c9-1010-43b4-b840-f0616c70a5ef",
   "metadata": {},
   "outputs": [
    {
     "name": "stdout",
     "output_type": "stream",
     "text": [
      "{'team': 'Chennai Super Kings', 'captain': 'Ruturaj Gaekwad', 'city': 'Chennai', 'owner': 'Bharti Cements'}\n"
     ]
    }
   ],
   "source": [
    "myDict = {'team': 'Chennai Super Kings', 'captain': 'Ruturaj Gaekwad', 'rank': 5, 'city': 'Chennai', 'owner': 'Bharti Cements'}\n",
    "del[myDict[\"rank\"]]\n",
    "print(myDict)"
   ]
  },
  {
   "cell_type": "code",
   "execution_count": 57,
   "id": "f782ab1e-4a70-4022-adb3-4a33243be432",
   "metadata": {},
   "outputs": [
    {
     "name": "stdout",
     "output_type": "stream",
     "text": [
      "{}\n"
     ]
    }
   ],
   "source": [
    "myDict = {'team': 'Chennai Super Kings', 'captain': 'Ruturaj Gaekwad', 'rank': 5, 'city': 'Chennai', 'owner': 'Bharti Cements'}\n",
    "myDict.clear()\n",
    "print(myDict)"
   ]
  },
  {
   "cell_type": "code",
   "execution_count": 58,
   "id": "02cbded5-dc59-4e61-80c8-4d6da959b54b",
   "metadata": {},
   "outputs": [
    {
     "ename": "NameError",
     "evalue": "name 'myDict' is not defined",
     "output_type": "error",
     "traceback": [
      "\u001b[1;31m---------------------------------------------------------------------------\u001b[0m",
      "\u001b[1;31mNameError\u001b[0m                                 Traceback (most recent call last)",
      "Cell \u001b[1;32mIn[58], line 3\u001b[0m\n\u001b[0;32m      1\u001b[0m myDict \u001b[38;5;241m=\u001b[39m {\u001b[38;5;124m'\u001b[39m\u001b[38;5;124mteam\u001b[39m\u001b[38;5;124m'\u001b[39m: \u001b[38;5;124m'\u001b[39m\u001b[38;5;124mChennai Super Kings\u001b[39m\u001b[38;5;124m'\u001b[39m, \u001b[38;5;124m'\u001b[39m\u001b[38;5;124mcaptain\u001b[39m\u001b[38;5;124m'\u001b[39m: \u001b[38;5;124m'\u001b[39m\u001b[38;5;124mRuturaj Gaekwad\u001b[39m\u001b[38;5;124m'\u001b[39m, \u001b[38;5;124m'\u001b[39m\u001b[38;5;124mrank\u001b[39m\u001b[38;5;124m'\u001b[39m: \u001b[38;5;241m5\u001b[39m, \u001b[38;5;124m'\u001b[39m\u001b[38;5;124mcity\u001b[39m\u001b[38;5;124m'\u001b[39m: \u001b[38;5;124m'\u001b[39m\u001b[38;5;124mChennai\u001b[39m\u001b[38;5;124m'\u001b[39m, \u001b[38;5;124m'\u001b[39m\u001b[38;5;124mowner\u001b[39m\u001b[38;5;124m'\u001b[39m: \u001b[38;5;124m'\u001b[39m\u001b[38;5;124mBharti Cements\u001b[39m\u001b[38;5;124m'\u001b[39m}\n\u001b[0;32m      2\u001b[0m \u001b[38;5;28;01mdel\u001b[39;00m(myDict)\n\u001b[1;32m----> 3\u001b[0m \u001b[38;5;28mprint\u001b[39m(myDict)\n",
      "\u001b[1;31mNameError\u001b[0m: name 'myDict' is not defined"
     ]
    }
   ],
   "source": [
    "myDict = {'team': 'Chennai Super Kings', 'captain': 'Ruturaj Gaekwad', 'rank': 5, 'city': 'Chennai', 'owner': 'Bharti Cements'}\n",
    "del(myDict)\n",
    "print(myDict)"
   ]
  },
  {
   "cell_type": "code",
   "execution_count": 61,
   "id": "0c645bdd-74f5-47c7-a387-37867c062971",
   "metadata": {},
   "outputs": [
    {
     "name": "stdout",
     "output_type": "stream",
     "text": [
      "Address of myDict 1987727000768\n",
      "Address of copyDict 1987727005952\n",
      "{'team': 'Chennai Super Kings', 'captain': 'Ruturaj Gaekwad', 'rank': 1, 'city': 'Chennai', 'owner': 'Bharti Cements'}\n",
      "{'team': 'Chennai Super Kings', 'captain': 'Ruturaj Gaekwad', 'rank': 5, 'city': 'Chennai', 'owner': 'Bharti Cements'}\n"
     ]
    }
   ],
   "source": [
    "myDict = {'team': 'Chennai Super Kings', 'captain': 'Ruturaj Gaekwad', 'rank': 5, 'city': 'Chennai', 'owner': 'Bharti Cements'}\n",
    "copyDict = myDict.copy()\n",
    "print(f\"Address of myDict {id(myDict)}\")\n",
    "print(f\"Address of copyDict {id(copyDict)}\")\n",
    "\n",
    "myDict[\"rank\"] = 1\n",
    "print(myDict)\n",
    "print(copyDict)"
   ]
  },
  {
   "cell_type": "code",
   "execution_count": 62,
   "id": "c9aa55c4-743b-4950-857e-8cf0c4b7eddd",
   "metadata": {},
   "outputs": [
    {
     "name": "stdout",
     "output_type": "stream",
     "text": [
      "Address of myDict 1987726954368\n",
      "Address of copyDict 1987726954368\n",
      "{'team': 'Chennai Super Kings', 'captain': 'Ruturaj Gaekwad', 'rank': 1, 'city': 'Chennai', 'owner': 'Bharti Cements'}\n",
      "{'team': 'Chennai Super Kings', 'captain': 'Ruturaj Gaekwad', 'rank': 1, 'city': 'Chennai', 'owner': 'Bharti Cements'}\n"
     ]
    }
   ],
   "source": [
    "myDict = {'team': 'Chennai Super Kings', 'captain': 'Ruturaj Gaekwad', 'rank': 5, 'city': 'Chennai', 'owner': 'Bharti Cements'}\n",
    "copyDict = myDict\n",
    "print(f\"Address of myDict {id(myDict)}\")\n",
    "print(f\"Address of copyDict {id(copyDict)}\")\n",
    "\n",
    "myDict[\"rank\"] = 1\n",
    "print(myDict)\n",
    "print(copyDict)"
   ]
  },
  {
   "cell_type": "code",
   "execution_count": 64,
   "id": "d34621a8-8b5d-40c5-84fc-8c8af680fc04",
   "metadata": {},
   "outputs": [
    {
     "name": "stdout",
     "output_type": "stream",
     "text": [
      "team : Chennai Super Kings\n",
      "captain : Ruturaj Gaekwad\n",
      "rank : 5\n",
      "city : Madras\n",
      "owner : Bharti Cements\n"
     ]
    }
   ],
   "source": [
    "myDict = {'team': 'Chennai Super Kings', 'captain': 'Ruturaj Gaekwad', 'rank': 5, 'city': 'Chennai', 'owner': 'Bharti Cements'}\n",
    "for item in myDict:\n",
    "    print(item,\":\",myDict[item])\n",
    "    if 'city' in myDict:\n",
    "        myDict['city'] = 'Madras'"
   ]
  },
  {
   "cell_type": "code",
   "execution_count": null,
   "id": "f942bb7c-c04f-4725-9afb-e347140b3d15",
   "metadata": {},
   "outputs": [],
   "source": []
  }
 ],
 "metadata": {
  "kernelspec": {
   "display_name": "Python 3 (ipykernel)",
   "language": "python",
   "name": "python3"
  },
  "language_info": {
   "codemirror_mode": {
    "name": "ipython",
    "version": 3
   },
   "file_extension": ".py",
   "mimetype": "text/x-python",
   "name": "python",
   "nbconvert_exporter": "python",
   "pygments_lexer": "ipython3",
   "version": "3.12.7"
  }
 },
 "nbformat": 4,
 "nbformat_minor": 5
}
