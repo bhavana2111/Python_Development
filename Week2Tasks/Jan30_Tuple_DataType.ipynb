{
 "cells": [
  {
   "cell_type": "code",
   "execution_count": 2,
   "id": "e7d96dc5-20a6-4ea8-ad7d-f31bd3f38537",
   "metadata": {},
   "outputs": [
    {
     "data": {
      "text/plain": [
       "()"
      ]
     },
     "execution_count": 2,
     "metadata": {},
     "output_type": "execute_result"
    }
   ],
   "source": [
    "myTuple = ()\n",
    "myTuple"
   ]
  },
  {
   "cell_type": "code",
   "execution_count": 5,
   "id": "5ed13ff6-3c9c-4456-9236-d6cfae6da4c1",
   "metadata": {},
   "outputs": [
    {
     "data": {
      "text/plain": [
       "(1, 2, 3, 4, 5)"
      ]
     },
     "execution_count": 5,
     "metadata": {},
     "output_type": "execute_result"
    }
   ],
   "source": [
    "myTuple = 1,2,3,4,5\n",
    "myTuple"
   ]
  },
  {
   "cell_type": "code",
   "execution_count": 10,
   "id": "228f348c-9eef-49f4-a696-97486a9fa564",
   "metadata": {},
   "outputs": [
    {
     "data": {
      "text/plain": [
       "(5, 1, 5, 2, 3, 4, 5)"
      ]
     },
     "execution_count": 10,
     "metadata": {},
     "output_type": "execute_result"
    }
   ],
   "source": [
    "myTuple = (5,1,5,2,3,4,5)\n",
    "myTuple"
   ]
  },
  {
   "cell_type": "code",
   "execution_count": 6,
   "id": "310b239c-6878-4b47-9f47-8d441dd4b3d9",
   "metadata": {},
   "outputs": [
    {
     "ename": "TypeError",
     "evalue": "tuple.count() takes exactly one argument (0 given)",
     "output_type": "error",
     "traceback": [
      "\u001b[1;31m---------------------------------------------------------------------------\u001b[0m",
      "\u001b[1;31mTypeError\u001b[0m                                 Traceback (most recent call last)",
      "Cell \u001b[1;32mIn[6], line 1\u001b[0m\n\u001b[1;32m----> 1\u001b[0m myTuple\u001b[38;5;241m.\u001b[39mcount()\n\u001b[0;32m      2\u001b[0m myTuple\n",
      "\u001b[1;31mTypeError\u001b[0m: tuple.count() takes exactly one argument (0 given)"
     ]
    }
   ],
   "source": [
    "myTuple.count()\n",
    "myTuple"
   ]
  },
  {
   "cell_type": "code",
   "execution_count": 11,
   "id": "dfa17e1c-a47c-4008-a338-e45fd71cdce8",
   "metadata": {},
   "outputs": [
    {
     "data": {
      "text/plain": [
       "3"
      ]
     },
     "execution_count": 11,
     "metadata": {},
     "output_type": "execute_result"
    }
   ],
   "source": [
    "myTuple.count(5)"
   ]
  },
  {
   "cell_type": "code",
   "execution_count": 12,
   "id": "89b90ff2-0942-422c-b2e9-1310edf83688",
   "metadata": {},
   "outputs": [
    {
     "data": {
      "text/plain": [
       "0"
      ]
     },
     "execution_count": 12,
     "metadata": {},
     "output_type": "execute_result"
    }
   ],
   "source": [
    "myTuple.index(5)"
   ]
  },
  {
   "cell_type": "code",
   "execution_count": 13,
   "id": "c8ff594c-7427-413e-b089-3c93634f3e91",
   "metadata": {},
   "outputs": [
    {
     "data": {
      "text/plain": [
       "5"
      ]
     },
     "execution_count": 13,
     "metadata": {},
     "output_type": "execute_result"
    }
   ],
   "source": [
    "myTuple[0]"
   ]
  },
  {
   "cell_type": "code",
   "execution_count": 16,
   "id": "d54478d5-ce4d-46dd-ba83-caa25acdc9b5",
   "metadata": {},
   "outputs": [
    {
     "name": "stdout",
     "output_type": "stream",
     "text": [
      "TUPLE IS IMMUTABLE\n"
     ]
    },
    {
     "ename": "TypeError",
     "evalue": "'tuple' object does not support item assignment",
     "output_type": "error",
     "traceback": [
      "\u001b[1;31m---------------------------------------------------------------------------\u001b[0m",
      "\u001b[1;31mTypeError\u001b[0m                                 Traceback (most recent call last)",
      "Cell \u001b[1;32mIn[16], line 2\u001b[0m\n\u001b[0;32m      1\u001b[0m \u001b[38;5;28mprint\u001b[39m(\u001b[38;5;124m\"\u001b[39m\u001b[38;5;124mTUPLE IS IMMUTABLE\u001b[39m\u001b[38;5;124m\"\u001b[39m)\n\u001b[1;32m----> 2\u001b[0m myTuple[\u001b[38;5;241m0\u001b[39m] \u001b[38;5;241m=\u001b[39m \u001b[38;5;241m10\u001b[39m\n",
      "\u001b[1;31mTypeError\u001b[0m: 'tuple' object does not support item assignment"
     ]
    }
   ],
   "source": [
    "print(\"TUPLE IS IMMUTABLE\")\n",
    "myTuple[0] = 10"
   ]
  },
  {
   "cell_type": "code",
   "execution_count": 17,
   "id": "334bf768-3296-4b74-ba6a-3775dc5741ad",
   "metadata": {},
   "outputs": [
    {
     "data": {
      "text/plain": [
       "(5, 1, 5, 2, 3, 4, 5, 5, 1, 5, 2, 3, 4, 5, 5, 1, 5, 2, 3, 4, 5)"
      ]
     },
     "execution_count": 17,
     "metadata": {},
     "output_type": "execute_result"
    }
   ],
   "source": [
    "myTuple * 3\n"
   ]
  },
  {
   "cell_type": "code",
   "execution_count": 18,
   "id": "a92e112a-d8c2-40d0-aeeb-8e1c743c74c9",
   "metadata": {},
   "outputs": [
    {
     "data": {
      "text/plain": [
       "(5, 1, 5, 2, 3, 4, 5)"
      ]
     },
     "execution_count": 18,
     "metadata": {},
     "output_type": "execute_result"
    }
   ],
   "source": [
    "myTuple[:]"
   ]
  },
  {
   "cell_type": "code",
   "execution_count": 20,
   "id": "0bebbf8b-60da-4941-8c9d-afd8306de0fd",
   "metadata": {},
   "outputs": [
    {
     "data": {
      "text/plain": [
       "(5, 1, 5, 2, 3, 4, 5)"
      ]
     },
     "execution_count": 20,
     "metadata": {},
     "output_type": "execute_result"
    }
   ],
   "source": [
    "myTuple[:100]"
   ]
  },
  {
   "cell_type": "code",
   "execution_count": 21,
   "id": "3a78e5b7-78fd-44de-92da-60df4be1103c",
   "metadata": {},
   "outputs": [
    {
     "name": "stdout",
     "output_type": "stream",
     "text": [
      "5\n",
      "1\n",
      "5\n",
      "2\n",
      "3\n",
      "4\n",
      "5\n"
     ]
    }
   ],
   "source": [
    "for item in myTuple:\n",
    "    print(item)"
   ]
  },
  {
   "cell_type": "code",
   "execution_count": 22,
   "id": "ab7f919b-cbca-4b14-9158-62c5a375ce69",
   "metadata": {},
   "outputs": [
    {
     "name": "stdout",
     "output_type": "stream",
     "text": [
      "(0, 5)\n",
      "(1, 1)\n",
      "(2, 5)\n",
      "(3, 2)\n",
      "(4, 3)\n",
      "(5, 4)\n",
      "(6, 5)\n"
     ]
    }
   ],
   "source": [
    "for item in enumerate(myTuple):\n",
    "    print(item)"
   ]
  },
  {
   "cell_type": "code",
   "execution_count": 29,
   "id": "46ba328b-6bec-4f46-810e-73b7eb7c5da5",
   "metadata": {},
   "outputs": [
    {
     "data": {
      "text/plain": [
       "('NIT', 1, 3)"
      ]
     },
     "execution_count": 29,
     "metadata": {},
     "output_type": "execute_result"
    }
   ],
   "source": [
    "myTuple = ('NIT',1 ,3)\n",
    "myTuple[0][2]\n",
    "myTuple"
   ]
  },
  {
   "cell_type": "code",
   "execution_count": 31,
   "id": "50cf9bc9-4d01-414c-9009-7ecddd647850",
   "metadata": {},
   "outputs": [
    {
     "name": "stdout",
     "output_type": "stream",
     "text": [
      "N\n",
      "I\n",
      "T\n"
     ]
    }
   ],
   "source": [
    "myTuple = ('NIT',1 ,3)\n",
    "print(myTuple[0][0])\n",
    "print(myTuple[0][1])\n",
    "print(myTuple[0][2])"
   ]
  },
  {
   "cell_type": "code",
   "execution_count": null,
   "id": "aa7bc71b-c61d-432f-af03-732dccecfc87",
   "metadata": {},
   "outputs": [],
   "source": []
  }
 ],
 "metadata": {
  "kernelspec": {
   "display_name": "Python 3 (ipykernel)",
   "language": "python",
   "name": "python3"
  },
  "language_info": {
   "codemirror_mode": {
    "name": "ipython",
    "version": 3
   },
   "file_extension": ".py",
   "mimetype": "text/x-python",
   "name": "python",
   "nbconvert_exporter": "python",
   "pygments_lexer": "ipython3",
   "version": "3.12.7"
  }
 },
 "nbformat": 4,
 "nbformat_minor": 5
}
