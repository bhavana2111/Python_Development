{
 "cells": [
  {
   "cell_type": "code",
   "execution_count": 2,
   "id": "5866b7e9-0f89-42af-a4bc-b57fbd59332a",
   "metadata": {},
   "outputs": [
    {
     "data": {
      "text/plain": [
       "dict"
      ]
     },
     "execution_count": 2,
     "metadata": {},
     "output_type": "execute_result"
    }
   ],
   "source": [
    "mySet = {}\n",
    "mySet\n",
    "type(mySet)"
   ]
  },
  {
   "cell_type": "code",
   "execution_count": 3,
   "id": "91140565-1831-479c-96a8-98375a8a668f",
   "metadata": {},
   "outputs": [
    {
     "data": {
      "text/plain": [
       "set"
      ]
     },
     "execution_count": 3,
     "metadata": {},
     "output_type": "execute_result"
    }
   ],
   "source": [
    "mySet = set()\n",
    "type(mySet)"
   ]
  },
  {
   "cell_type": "code",
   "execution_count": 4,
   "id": "f0501a33-9b21-4ad3-a4ca-10f9e00b04d5",
   "metadata": {},
   "outputs": [
    {
     "data": {
      "text/plain": [
       "list"
      ]
     },
     "execution_count": 4,
     "metadata": {},
     "output_type": "execute_result"
    }
   ],
   "source": [
    "myList = list()\n",
    "type(myList)"
   ]
  },
  {
   "cell_type": "code",
   "execution_count": 12,
   "id": "97fe5c72-9c6b-4824-8715-1f3e63a92564",
   "metadata": {},
   "outputs": [
    {
     "name": "stdout",
     "output_type": "stream",
     "text": [
      "{400, 100, 500, 200, 300}\n"
     ]
    }
   ],
   "source": [
    "myList = {100,200,300,400,500}\n",
    "myList\n",
    "print(myList)\n"
   ]
  },
  {
   "cell_type": "code",
   "execution_count": 10,
   "id": "cd8001c4-f7b1-495d-9c4f-50a480845fbc",
   "metadata": {},
   "outputs": [
    {
     "data": {
      "text/plain": [
       "{1, 3, 10, 20, 200}"
      ]
     },
     "execution_count": 10,
     "metadata": {},
     "output_type": "execute_result"
    }
   ],
   "source": [
    "mySet = {200,3,1,20,10,10}\n",
    "mySet"
   ]
  },
  {
   "cell_type": "code",
   "execution_count": 14,
   "id": "3b26c958-5a3b-43c7-af7f-312f0fbde21b",
   "metadata": {},
   "outputs": [
    {
     "data": {
      "text/plain": [
       "{1, 3, 10, 20, 30, 200}"
      ]
     },
     "execution_count": 14,
     "metadata": {},
     "output_type": "execute_result"
    }
   ],
   "source": [
    "mySet = {200,3,1,20,10,10}\n",
    "mySet.add(30)\n",
    "mySet"
   ]
  },
  {
   "cell_type": "code",
   "execution_count": 15,
   "id": "4344101f-6c0c-4b83-9494-ae2a5f06d664",
   "metadata": {},
   "outputs": [
    {
     "ename": "TypeError",
     "evalue": "set.add() takes exactly one argument (3 given)",
     "output_type": "error",
     "traceback": [
      "\u001b[1;31m---------------------------------------------------------------------------\u001b[0m",
      "\u001b[1;31mTypeError\u001b[0m                                 Traceback (most recent call last)",
      "Cell \u001b[1;32mIn[15], line 2\u001b[0m\n\u001b[0;32m      1\u001b[0m mySet \u001b[38;5;241m=\u001b[39m {\u001b[38;5;241m200\u001b[39m,\u001b[38;5;241m3\u001b[39m,\u001b[38;5;241m1\u001b[39m,\u001b[38;5;241m20\u001b[39m,\u001b[38;5;241m10\u001b[39m,\u001b[38;5;241m10\u001b[39m}\n\u001b[1;32m----> 2\u001b[0m mySet\u001b[38;5;241m.\u001b[39madd(\u001b[38;5;241m30\u001b[39m,\u001b[38;5;241m30\u001b[39m,\u001b[38;5;241m50\u001b[39m)\n\u001b[0;32m      3\u001b[0m mySet\n",
      "\u001b[1;31mTypeError\u001b[0m: set.add() takes exactly one argument (3 given)"
     ]
    }
   ],
   "source": [
    "mySet = {200,3,1,20,10,10}\n",
    "mySet.add(30,30,50)\n",
    "mySet"
   ]
  },
  {
   "cell_type": "code",
   "execution_count": 16,
   "id": "4e9e9e01-f999-4ba6-9a2c-27b38666a5b9",
   "metadata": {},
   "outputs": [
    {
     "ename": "TypeError",
     "evalue": "unhashable type: 'set'",
     "output_type": "error",
     "traceback": [
      "\u001b[1;31m---------------------------------------------------------------------------\u001b[0m",
      "\u001b[1;31mTypeError\u001b[0m                                 Traceback (most recent call last)",
      "Cell \u001b[1;32mIn[16], line 3\u001b[0m\n\u001b[0;32m      1\u001b[0m mySet \u001b[38;5;241m=\u001b[39m {\u001b[38;5;241m200\u001b[39m,\u001b[38;5;241m3\u001b[39m,\u001b[38;5;241m1\u001b[39m,\u001b[38;5;241m20\u001b[39m,\u001b[38;5;241m10\u001b[39m,\u001b[38;5;241m10\u001b[39m}\n\u001b[0;32m      2\u001b[0m addSet \u001b[38;5;241m=\u001b[39m {\u001b[38;5;241m30\u001b[39m,\u001b[38;5;241m30\u001b[39m,\u001b[38;5;241m50\u001b[39m}\n\u001b[1;32m----> 3\u001b[0m mySet\u001b[38;5;241m.\u001b[39madd(addSet)\n\u001b[0;32m      4\u001b[0m mySet\n",
      "\u001b[1;31mTypeError\u001b[0m: unhashable type: 'set'"
     ]
    }
   ],
   "source": [
    "mySet = {200,3,1,20,10,10}\n",
    "addSet = {30,30,50}\n",
    "mySet.add(addSet)\n",
    "mySet"
   ]
  },
  {
   "cell_type": "code",
   "execution_count": 19,
   "id": "248f4f69-561c-4239-88bd-2b87a46e4f2c",
   "metadata": {},
   "outputs": [
    {
     "name": "stdout",
     "output_type": "stream",
     "text": [
      "{1, 3, 20, 200, 10}\n",
      "2562206805440\n",
      "2562206794016\n"
     ]
    },
    {
     "ename": "TypeError",
     "evalue": "'set' object is not subscriptable",
     "output_type": "error",
     "traceback": [
      "\u001b[1;31m---------------------------------------------------------------------------\u001b[0m",
      "\u001b[1;31mTypeError\u001b[0m                                 Traceback (most recent call last)",
      "Cell \u001b[1;32mIn[19], line 6\u001b[0m\n\u001b[0;32m      4\u001b[0m \u001b[38;5;28mprint\u001b[39m(\u001b[38;5;28mid\u001b[39m(mySet))\n\u001b[0;32m      5\u001b[0m \u001b[38;5;28mprint\u001b[39m(\u001b[38;5;28mid\u001b[39m(mySetCopy))\n\u001b[1;32m----> 6\u001b[0m mySetCopy[\u001b[38;5;241m2\u001b[39m:]\n",
      "\u001b[1;31mTypeError\u001b[0m: 'set' object is not subscriptable"
     ]
    }
   ],
   "source": [
    "mySet = {200,3,1,20,10,10}\n",
    "mySetCopy = mySet.copy()\n",
    "print(mySetCopy)\n",
    "print(id(mySet))\n",
    "print(id(mySetCopy))\n",
    "mySetCopy[2:]"
   ]
  },
  {
   "cell_type": "code",
   "execution_count": 20,
   "id": "54a6b96c-21c4-4711-b191-997a70537ebf",
   "metadata": {},
   "outputs": [
    {
     "ename": "TypeError",
     "evalue": "'set' object does not support item assignment",
     "output_type": "error",
     "traceback": [
      "\u001b[1;31m---------------------------------------------------------------------------\u001b[0m",
      "\u001b[1;31mTypeError\u001b[0m                                 Traceback (most recent call last)",
      "Cell \u001b[1;32mIn[20], line 2\u001b[0m\n\u001b[0;32m      1\u001b[0m mySet \u001b[38;5;241m=\u001b[39m {\u001b[38;5;241m200\u001b[39m,\u001b[38;5;241m3\u001b[39m,\u001b[38;5;241m1\u001b[39m,\u001b[38;5;241m20\u001b[39m,\u001b[38;5;241m10\u001b[39m,\u001b[38;5;241m10\u001b[39m}\n\u001b[1;32m----> 2\u001b[0m mySet[\u001b[38;5;241m0\u001b[39m]\u001b[38;5;241m=\u001b[39m\u001b[38;5;241m3\u001b[39m\n",
      "\u001b[1;31mTypeError\u001b[0m: 'set' object does not support item assignment"
     ]
    }
   ],
   "source": [
    "mySet = {200,3,1,20,10,10}\n",
    "mySet[0]=3"
   ]
  },
  {
   "cell_type": "code",
   "execution_count": 22,
   "id": "b5e0a778-0805-4d15-aded-3f84a99281a5",
   "metadata": {},
   "outputs": [
    {
     "data": {
      "text/plain": [
       "{3, 10, 20, 200}"
      ]
     },
     "execution_count": 22,
     "metadata": {},
     "output_type": "execute_result"
    }
   ],
   "source": [
    "mySet = {200,3,1,20,10,10}\n",
    "mySet.pop()\n",
    "mySet"
   ]
  },
  {
   "cell_type": "code",
   "execution_count": 23,
   "id": "3539f55d-fb11-46d9-bac9-fd90ed85abff",
   "metadata": {},
   "outputs": [
    {
     "ename": "TypeError",
     "evalue": "set.pop() takes no arguments (1 given)",
     "output_type": "error",
     "traceback": [
      "\u001b[1;31m---------------------------------------------------------------------------\u001b[0m",
      "\u001b[1;31mTypeError\u001b[0m                                 Traceback (most recent call last)",
      "Cell \u001b[1;32mIn[23], line 2\u001b[0m\n\u001b[0;32m      1\u001b[0m mySet \u001b[38;5;241m=\u001b[39m {\u001b[38;5;241m200\u001b[39m,\u001b[38;5;241m3\u001b[39m,\u001b[38;5;241m1\u001b[39m,\u001b[38;5;241m20\u001b[39m,\u001b[38;5;241m10\u001b[39m,\u001b[38;5;241m10\u001b[39m}\n\u001b[1;32m----> 2\u001b[0m mySet\u001b[38;5;241m.\u001b[39mpop(\u001b[38;5;241m3\u001b[39m)\n",
      "\u001b[1;31mTypeError\u001b[0m: set.pop() takes no arguments (1 given)"
     ]
    }
   ],
   "source": [
    "mySet = {200,3,1,20,10,10}\n",
    "mySet.pop(3)"
   ]
  },
  {
   "cell_type": "code",
   "execution_count": 25,
   "id": "e3a1b6a0-4375-4f84-974d-6954540c8b19",
   "metadata": {},
   "outputs": [
    {
     "data": {
      "text/plain": [
       "{1, 3, 10, 20}"
      ]
     },
     "execution_count": 25,
     "metadata": {},
     "output_type": "execute_result"
    }
   ],
   "source": [
    "mySet = {200,3,1,20,10,10}\n",
    "mySet.remove(200)\n",
    "mySet"
   ]
  },
  {
   "cell_type": "code",
   "execution_count": 27,
   "id": "0963b272-f5c9-4f93-b067-1384aba147b3",
   "metadata": {},
   "outputs": [
    {
     "ename": "KeyError",
     "evalue": "5000",
     "output_type": "error",
     "traceback": [
      "\u001b[1;31m---------------------------------------------------------------------------\u001b[0m",
      "\u001b[1;31mKeyError\u001b[0m                                  Traceback (most recent call last)",
      "Cell \u001b[1;32mIn[27], line 2\u001b[0m\n\u001b[0;32m      1\u001b[0m mySet \u001b[38;5;241m=\u001b[39m {\u001b[38;5;241m200\u001b[39m,\u001b[38;5;241m3\u001b[39m,\u001b[38;5;241m1\u001b[39m,\u001b[38;5;241m20\u001b[39m,\u001b[38;5;241m10\u001b[39m,\u001b[38;5;241m10\u001b[39m}\n\u001b[1;32m----> 2\u001b[0m mySet\u001b[38;5;241m.\u001b[39mremove(\u001b[38;5;241m5000\u001b[39m)\n",
      "\u001b[1;31mKeyError\u001b[0m: 5000"
     ]
    }
   ],
   "source": [
    "mySet = {200,3,1,20,10,10}\n",
    "mySet.remove(5000)"
   ]
  },
  {
   "cell_type": "code",
   "execution_count": 30,
   "id": "880e7483-4a9e-45ab-9291-1554f766ef98",
   "metadata": {},
   "outputs": [
    {
     "data": {
      "text/plain": [
       "{1, 3, 10, 20, 200}"
      ]
     },
     "execution_count": 30,
     "metadata": {},
     "output_type": "execute_result"
    }
   ],
   "source": [
    "mySet = {200,3,1,20,10,10}\n",
    "mySet.discard(5000)\n",
    "mySet"
   ]
  },
  {
   "cell_type": "code",
   "execution_count": 31,
   "id": "4722be90-0500-4dc0-880a-306596e3cf39",
   "metadata": {},
   "outputs": [
    {
     "data": {
      "text/plain": [
       "{1, 3, 10, 20}"
      ]
     },
     "execution_count": 31,
     "metadata": {},
     "output_type": "execute_result"
    }
   ],
   "source": [
    "mySet = {200,3,1,20,10,10}\n",
    "mySet.discard(200)\n",
    "mySet"
   ]
  },
  {
   "cell_type": "code",
   "execution_count": 2,
   "id": "4aac4761-b1b5-433b-9b31-04195c2bbc11",
   "metadata": {},
   "outputs": [
    {
     "data": {
      "text/plain": [
       "{(2+5j), 2, 3, 'OK', True, 'hello'}"
      ]
     },
     "execution_count": 2,
     "metadata": {},
     "output_type": "execute_result"
    }
   ],
   "source": [
    "mySet = {2,3,'hello',2+5j,True, \"OK\"}\n",
    "type(mySet)\n",
    "mySet"
   ]
  },
  {
   "cell_type": "code",
   "execution_count": 7,
   "id": "11f9aee3-d487-4dab-ac48-143b8bb4775a",
   "metadata": {},
   "outputs": [
    {
     "name": "stdout",
     "output_type": "stream",
     "text": [
      "True\n",
      "2\n",
      "3\n",
      "(2+5j)\n",
      "OK\n",
      "hello\n"
     ]
    }
   ],
   "source": [
    "for i in (mySet):\n",
    "    print(i)"
   ]
  },
  {
   "cell_type": "code",
   "execution_count": 8,
   "id": "15c6006b-5211-412c-b708-6b21dfefb374",
   "metadata": {},
   "outputs": [
    {
     "name": "stdout",
     "output_type": "stream",
     "text": [
      "(0, True)\n",
      "(1, 2)\n",
      "(2, 3)\n",
      "(3, (2+5j))\n",
      "(4, 'OK')\n",
      "(5, 'hello')\n"
     ]
    }
   ],
   "source": [
    "for i in enumerate(mySet):\n",
    "    print(i)"
   ]
  },
  {
   "cell_type": "code",
   "execution_count": 11,
   "id": "511dc91f-6497-498d-b14d-c8eac34315c4",
   "metadata": {},
   "outputs": [
    {
     "name": "stdout",
     "output_type": "stream",
     "text": [
      "<class 'bool'>\n",
      "<class 'int'>\n",
      "<class 'int'>\n",
      "<class 'complex'>\n",
      "<class 'str'>\n",
      "<class 'str'>\n"
     ]
    }
   ],
   "source": [
    "for i in mySet:\n",
    "    print(type(i))"
   ]
  },
  {
   "cell_type": "code",
   "execution_count": 16,
   "id": "fb8f3ed2-68ad-4753-8e61-6eb59b4c4761",
   "metadata": {},
   "outputs": [
    {
     "data": {
      "text/plain": [
       "{(2+5j), 1000, 2, 3, 4, 700, 'OK', True, 'hello'}"
      ]
     },
     "execution_count": 16,
     "metadata": {},
     "output_type": "execute_result"
    }
   ],
   "source": [
    "mySet = {2,3,'hello',2+5j,True, \"OK\"}\n",
    "mySet.update((4,700,1000))\n",
    "mySet"
   ]
  },
  {
   "cell_type": "code",
   "execution_count": 17,
   "id": "faa40f5c-8865-4909-aad2-cafce058bdb9",
   "metadata": {},
   "outputs": [],
   "source": [
    "copySet = mySet.copy()"
   ]
  },
  {
   "cell_type": "code",
   "execution_count": 19,
   "id": "b6d3c123-383f-44ce-adca-744b8a52fa6b",
   "metadata": {},
   "outputs": [
    {
     "data": {
      "text/plain": [
       "{1, 2, 3, 4, 5, 6, 7, 8}"
      ]
     },
     "execution_count": 19,
     "metadata": {},
     "output_type": "execute_result"
    }
   ],
   "source": [
    "A = {1,2,3,4,5}\n",
    "B = {6,7,8}\n",
    "C = {9,10}\n",
    "\n",
    "A.union(B)"
   ]
  },
  {
   "cell_type": "code",
   "execution_count": 21,
   "id": "233d505b-9d5c-4532-83ce-dd60e532c559",
   "metadata": {},
   "outputs": [
    {
     "data": {
      "text/plain": [
       "{1, 2, 3, 4, 5, 6, 7, 8, 9, 10}"
      ]
     },
     "execution_count": 21,
     "metadata": {},
     "output_type": "execute_result"
    }
   ],
   "source": [
    "A = {1,2,3,4,5}\n",
    "B = {6,7,8}\n",
    "C = {9,10}\n",
    "\n",
    "B.union(A,C)"
   ]
  },
  {
   "cell_type": "code",
   "execution_count": 22,
   "id": "a2f8eaba-684d-4b06-8fad-82e072c6945e",
   "metadata": {},
   "outputs": [
    {
     "ename": "TypeError",
     "evalue": "'int' object is not iterable",
     "output_type": "error",
     "traceback": [
      "\u001b[1;31m---------------------------------------------------------------------------\u001b[0m",
      "\u001b[1;31mTypeError\u001b[0m                                 Traceback (most recent call last)",
      "Cell \u001b[1;32mIn[22], line 5\u001b[0m\n\u001b[0;32m      2\u001b[0m B \u001b[38;5;241m=\u001b[39m {\u001b[38;5;241m6\u001b[39m,\u001b[38;5;241m7\u001b[39m,\u001b[38;5;241m8\u001b[39m}\n\u001b[0;32m      3\u001b[0m C \u001b[38;5;241m=\u001b[39m {\u001b[38;5;241m9\u001b[39m,\u001b[38;5;241m10\u001b[39m}\n\u001b[1;32m----> 5\u001b[0m B\u001b[38;5;241m.\u001b[39munion(A,C,\u001b[38;5;241m56\u001b[39m)\n",
      "\u001b[1;31mTypeError\u001b[0m: 'int' object is not iterable"
     ]
    }
   ],
   "source": [
    "A = {1,2,3,4,5}\n",
    "B = {6,7,8}\n",
    "C = {9,10}\n",
    "\n",
    "B.union(A,C,56)"
   ]
  },
  {
   "cell_type": "code",
   "execution_count": 23,
   "id": "ad00b649-15c0-42af-8678-7edc26ab0134",
   "metadata": {},
   "outputs": [
    {
     "data": {
      "text/plain": [
       "{1, 2, 3, 4, 5, 6, 7, 8}"
      ]
     },
     "execution_count": 23,
     "metadata": {},
     "output_type": "execute_result"
    }
   ],
   "source": [
    "A|B"
   ]
  },
  {
   "cell_type": "code",
   "execution_count": 24,
   "id": "56d07231-f0a6-4289-b787-c68997b1a51d",
   "metadata": {},
   "outputs": [
    {
     "data": {
      "text/plain": [
       "{1, 2, 3, 4, 5, 6, 7, 8, 9, 10}"
      ]
     },
     "execution_count": 24,
     "metadata": {},
     "output_type": "execute_result"
    }
   ],
   "source": [
    "B|C|A"
   ]
  },
  {
   "cell_type": "code",
   "execution_count": 30,
   "id": "bf3578f5-78e4-4cd9-871b-4d276abfde3f",
   "metadata": {},
   "outputs": [
    {
     "data": {
      "text/plain": [
       "{1, 4}"
      ]
     },
     "execution_count": 30,
     "metadata": {},
     "output_type": "execute_result"
    }
   ],
   "source": [
    "A = {1,2,3,4,5}\n",
    "B = {6,7,8,4,1}\n",
    "C = {9,10}\n",
    "\n",
    "A & B"
   ]
  },
  {
   "cell_type": "code",
   "execution_count": 32,
   "id": "beafd597-80b4-45c0-98b5-b1908f96f9eb",
   "metadata": {},
   "outputs": [
    {
     "data": {
      "text/plain": [
       "set()"
      ]
     },
     "execution_count": 32,
     "metadata": {},
     "output_type": "execute_result"
    }
   ],
   "source": [
    "A = {1,2,3,4,5}\n",
    "B = {6,7,8,4,1}\n",
    "C = {9,10}\n",
    "\n",
    "# Empty Set\n",
    "B & C "
   ]
  },
  {
   "cell_type": "code",
   "execution_count": 34,
   "id": "79c04b9d-8f4f-4a48-a23e-4fe78427e5bf",
   "metadata": {},
   "outputs": [
    {
     "data": {
      "text/plain": [
       "{9}"
      ]
     },
     "execution_count": 34,
     "metadata": {},
     "output_type": "execute_result"
    }
   ],
   "source": [
    "A = {1,2,3,4,5,9}\n",
    "B = {6,7,8,4,1,9}\n",
    "C = {9,10}\n",
    "\n",
    "# Empty Set\n",
    "A & B & C "
   ]
  },
  {
   "cell_type": "code",
   "execution_count": 35,
   "id": "995c8f0d-2410-44aa-8c9c-481d1738e360",
   "metadata": {},
   "outputs": [
    {
     "data": {
      "text/plain": [
       "{9}"
      ]
     },
     "execution_count": 35,
     "metadata": {},
     "output_type": "execute_result"
    }
   ],
   "source": [
    "A = {1,2,3,4,5,9}\n",
    "B = {6,7,8,4,1,9}\n",
    "C = {9,10}\n",
    "A.intersection(B,C)"
   ]
  },
  {
   "cell_type": "code",
   "execution_count": 38,
   "id": "77c1ef91-80ae-4642-ba32-63d14eb5a48a",
   "metadata": {},
   "outputs": [
    {
     "data": {
      "text/plain": [
       "{2, 3, 5, 67, 99}"
      ]
     },
     "execution_count": 38,
     "metadata": {},
     "output_type": "execute_result"
    }
   ],
   "source": [
    "A = {1,2,3,4,99,67,5,9}\n",
    "B = {6,7,8,4,1,9}\n",
    "C = {9,10}\n",
    "A-B"
   ]
  },
  {
   "cell_type": "code",
   "execution_count": 37,
   "id": "19967011-370f-45ac-88c3-8ff78ca1fa8d",
   "metadata": {},
   "outputs": [
    {
     "data": {
      "text/plain": [
       "{1, 4, 6, 7, 8}"
      ]
     },
     "execution_count": 37,
     "metadata": {},
     "output_type": "execute_result"
    }
   ],
   "source": [
    "A = {1,2,3,4,5,9}\n",
    "B = {6,7,8,4,1,9}\n",
    "C = {9,10}\n",
    "\n",
    "B-C"
   ]
  },
  {
   "cell_type": "code",
   "execution_count": 39,
   "id": "b5924882-d36d-430b-819b-afd4b8141962",
   "metadata": {},
   "outputs": [
    {
     "data": {
      "text/plain": [
       "{2, 3, 5, 6, 7, 8}"
      ]
     },
     "execution_count": 39,
     "metadata": {},
     "output_type": "execute_result"
    }
   ],
   "source": [
    "A = {1,2,3,4,5,9}\n",
    "B = {6,7,8,4,1,9}\n",
    "C = {9,10}\n",
    "\n",
    "A.symmetric_difference(B)"
   ]
  },
  {
   "cell_type": "code",
   "execution_count": 40,
   "id": "f9868a8c-d4c0-4e1a-9e19-233e54d75258",
   "metadata": {},
   "outputs": [
    {
     "data": {
      "text/plain": [
       "{1, 4, 6, 7, 8, 10}"
      ]
     },
     "execution_count": 40,
     "metadata": {},
     "output_type": "execute_result"
    }
   ],
   "source": [
    "A = {1,2,3,4,5,9}\n",
    "B = {6,7,8,4,1,9}\n",
    "C = {9,10}\n",
    "\n",
    "B.symmetric_difference(C)"
   ]
  },
  {
   "cell_type": "code",
   "execution_count": 42,
   "id": "c39f9bba-938d-4c69-813b-890d5e9f8dcf",
   "metadata": {},
   "outputs": [
    {
     "data": {
      "text/plain": [
       "True"
      ]
     },
     "execution_count": 42,
     "metadata": {},
     "output_type": "execute_result"
    }
   ],
   "source": [
    "A1 = {1,2,3,4,5,6,7,8,9}\n",
    "B1 = {3,4,5,6,7,8}\n",
    "C1 = {10,20,30,40}\n",
    "\n",
    "A1.issuperset(B1)"
   ]
  },
  {
   "cell_type": "code",
   "execution_count": 43,
   "id": "5a95a1cf-774d-4690-84d2-a46e4cec0781",
   "metadata": {},
   "outputs": [
    {
     "data": {
      "text/plain": [
       "True"
      ]
     },
     "execution_count": 43,
     "metadata": {},
     "output_type": "execute_result"
    }
   ],
   "source": [
    "A1 = {1,2,3,4,5,6,7,8,9}\n",
    "B1 = {3,4,5,6,7,8}\n",
    "C1 = {10,20,30,40}\n",
    "\n",
    "A1.issuperset(B1)"
   ]
  },
  {
   "cell_type": "code",
   "execution_count": 44,
   "id": "4dfbf428-3db1-45d6-8512-bd33360c4c01",
   "metadata": {},
   "outputs": [
    {
     "data": {
      "text/plain": [
       "False"
      ]
     },
     "execution_count": 44,
     "metadata": {},
     "output_type": "execute_result"
    }
   ],
   "source": [
    "A1 = {1,2,3,4,5,6,7,8,9}\n",
    "B1 = {3,4,5,6,7,8}\n",
    "C1 = {10,20,30,40}\n",
    "\n",
    "B1.issuperset(A1)"
   ]
  },
  {
   "cell_type": "code",
   "execution_count": 46,
   "id": "88a870b4-5b35-41a8-91c3-b98dc27735cf",
   "metadata": {},
   "outputs": [
    {
     "data": {
      "text/plain": [
       "True"
      ]
     },
     "execution_count": 46,
     "metadata": {},
     "output_type": "execute_result"
    }
   ],
   "source": [
    "A1 = {1,2,3,4,5,6,7,8,9}\n",
    "B1 = {3,4,5,6,7,8}\n",
    "C1 = {10,20,30,40}\n",
    "\n",
    "B1.issubset(A1)"
   ]
  },
  {
   "cell_type": "code",
   "execution_count": 47,
   "id": "d6eaaa35-4f05-40f0-937d-95b616be76cc",
   "metadata": {},
   "outputs": [
    {
     "data": {
      "text/plain": [
       "True"
      ]
     },
     "execution_count": 47,
     "metadata": {},
     "output_type": "execute_result"
    }
   ],
   "source": [
    "A1 = {1,2,3,4,5,6,7,8,9}\n",
    "B1 = {3,4,5,6,7,8}\n",
    "C1 = {10,20,30,40}\n",
    "\n",
    "C1.isdisjoint(A1)"
   ]
  },
  {
   "cell_type": "code",
   "execution_count": 48,
   "id": "04290759-f748-4f76-ab7f-87379a7a98f0",
   "metadata": {},
   "outputs": [
    {
     "data": {
      "text/plain": [
       "45"
      ]
     },
     "execution_count": 48,
     "metadata": {},
     "output_type": "execute_result"
    }
   ],
   "source": [
    "A1 = {1,2,3,4,5,6,7,8,9}\n",
    "B1 = {3,4,5,6,7,8}\n",
    "C1 = {10,20,30,40}\n",
    "\n",
    "sum(A1)"
   ]
  },
  {
   "cell_type": "code",
   "execution_count": 49,
   "id": "9691edc0-30c3-4848-ae8c-8e086c02e46e",
   "metadata": {},
   "outputs": [
    {
     "name": "stdout",
     "output_type": "stream",
     "text": [
      "(0, 1)\n",
      "(1, 2)\n",
      "(2, 3)\n",
      "(3, 4)\n",
      "(4, 5)\n",
      "(5, 6)\n",
      "(6, 7)\n",
      "(7, 8)\n",
      "(8, 9)\n"
     ]
    }
   ],
   "source": [
    "A1 = {1,2,3,4,5,6,7,8,9}\n",
    "B1 = {3,4,5,6,7,8}\n",
    "C1 = {10,20,30,40}\n",
    "\n",
    "for i in enumerate(A1):\n",
    "    print(i)"
   ]
  },
  {
   "cell_type": "code",
   "execution_count": 50,
   "id": "827f2727-3124-4224-a5fe-64f7bff83f6f",
   "metadata": {},
   "outputs": [
    {
     "data": {
      "text/plain": [
       "list[<enumerate object at 0x0000029054709080>]"
      ]
     },
     "execution_count": 50,
     "metadata": {},
     "output_type": "execute_result"
    }
   ],
   "source": [
    "A1 = {1,2,3,4,5,6,7,8,9}\n",
    "B1 = {3,4,5,6,7,8}\n",
    "C1 = {10,20,30,40}\n",
    "\n",
    "list[enumerate(A1)]"
   ]
  },
  {
   "cell_type": "code",
   "execution_count": null,
   "id": "5d1e5638-1581-43b0-ac5f-cfc58f1c0a0c",
   "metadata": {},
   "outputs": [],
   "source": []
  }
 ],
 "metadata": {
  "kernelspec": {
   "display_name": "Python 3 (ipykernel)",
   "language": "python",
   "name": "python3"
  },
  "language_info": {
   "codemirror_mode": {
    "name": "ipython",
    "version": 3
   },
   "file_extension": ".py",
   "mimetype": "text/x-python",
   "name": "python",
   "nbconvert_exporter": "python",
   "pygments_lexer": "ipython3",
   "version": "3.12.7"
  }
 },
 "nbformat": 4,
 "nbformat_minor": 5
}
