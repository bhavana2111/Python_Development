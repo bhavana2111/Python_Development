{
 "cells": [
  {
   "cell_type": "code",
   "execution_count": null,
   "id": "aa1b0b42-e9d8-47cf-908b-10cb9244337e",
   "metadata": {},
   "outputs": [],
   "source": [
    "print(\"PYTHON NUMBER SYSTEM\")"
   ]
  },
  {
   "cell_type": "code",
   "execution_count": 24,
   "id": "399883cf-48da-4719-a4f8-179c130faa37",
   "metadata": {},
   "outputs": [
    {
     "name": "stdout",
     "output_type": "stream",
     "text": [
      "Binary of {} = {} = {} 25 0b11001\n",
      "Octal of {} = {} 25 0o31\n",
      "Hexadecimal of {} = {} 25 0x19\n",
      "\n",
      " 0b11001\n",
      "Coverting Binary {} to Integer {}  0b11001 25\n",
      "\n",
      " 0o31\n",
      "Coverting Octal {} to Integer {}  0o31 25\n",
      "\n",
      " 0x19\n",
      "Coverting Hexadecimal {} to Integer {}  0o31 25\n"
     ]
    },
    {
     "data": {
      "text/plain": [
       "21"
      ]
     },
     "execution_count": 24,
     "metadata": {},
     "output_type": "execute_result"
    }
   ],
   "source": [
    "number = 25\n",
    "print(\"Binary of {} = {} = {}\",number, bin(number))\n",
    "print(\"Octal of {} = {}\",number, oct(number))\n",
    "print(\"Hexadecimal of {} = {}\",number, hex(number))\n",
    "\n",
    "binary = bin(number)\n",
    "print(\"\\n\",binary)\n",
    "print(\"Coverting Binary {} to Integer {} \",binary, int(0b11001))\n",
    "\n",
    "octal = oct(number)\n",
    "print(\"\\n\",octal)\n",
    "print(\"Coverting Octal {} to Integer {} \",octal, int(0o31))\n",
    "\n",
    "hexNum = hex(number)\n",
    "print(\"\\n\",hexNum)\n",
    "print(\"Coverting Hexadecimal {} to Integer {} \",octal, int(0x19))"
   ]
  },
  {
   "cell_type": "code",
   "execution_count": 2,
   "id": "d34ef837-e0a9-4578-bd0f-8b6e79ef8e5b",
   "metadata": {},
   "outputs": [
    {
     "name": "stdout",
     "output_type": "stream",
     "text": [
      "a =30 b = 20\n"
     ]
    }
   ],
   "source": [
    "# Swapping\n",
    "\n",
    "print(\"Swapping using assignment Operation\")\n",
    "a = 20\n",
    "b = 30\n",
    "\n",
    "a,b = b,a\n",
    "print(\"a ={} b = {}\".format(a,b))"
   ]
  },
  {
   "cell_type": "code",
   "execution_count": 4,
   "id": "d2282518-34fc-4721-b44d-6903254f49f8",
   "metadata": {},
   "outputs": [
    {
     "name": "stdout",
     "output_type": "stream",
     "text": [
      "a =30 b = 20\n"
     ]
    }
   ],
   "source": [
    "print(\"\\nSwapping using Third Variable\")\n",
    "a = 20\n",
    "b = 30\n",
    "\n",
    "temp =a\n",
    "a=b\n",
    "b=temp\n",
    "print(\"a ={} b = {}\".format(a,b))"
   ]
  },
  {
   "cell_type": "code",
   "execution_count": 7,
   "id": "67360696-543f-4841-8a8e-add4470ebb9a",
   "metadata": {},
   "outputs": [
    {
     "name": "stdout",
     "output_type": "stream",
     "text": [
      "\n",
      "Swapping using Addition and Subtration\n",
      "a =30 b = 20\n"
     ]
    }
   ],
   "source": [
    "print(\"\\nSwapping using Addition and Subtration\")\n",
    "a = 20\n",
    "b = 30\n",
    "\n",
    "sum = a+b\n",
    "b = sum-b\n",
    "a = sum-a\n",
    "print(\"a ={} b = {}\".format(a,b))"
   ]
  },
  {
   "cell_type": "code",
   "execution_count": null,
   "id": "32f2d8d9-74fd-41c2-845e-454fd77abae4",
   "metadata": {},
   "outputs": [],
   "source": [
    "a = 20\n",
    "b = 30\n",
    "\n",
    "sum = a+b\n",
    "b = sum-b\n",
    "a = sum-a\n",
    "print(\"a ={} b = {}\".format(a,b))"
   ]
  }
 ],
 "metadata": {
  "kernelspec": {
   "display_name": "Python 3 (ipykernel)",
   "language": "python",
   "name": "python3"
  },
  "language_info": {
   "codemirror_mode": {
    "name": "ipython",
    "version": 3
   },
   "file_extension": ".py",
   "mimetype": "text/x-python",
   "name": "python",
   "nbconvert_exporter": "python",
   "pygments_lexer": "ipython3",
   "version": "3.12.7"
  }
 },
 "nbformat": 4,
 "nbformat_minor": 5
}
