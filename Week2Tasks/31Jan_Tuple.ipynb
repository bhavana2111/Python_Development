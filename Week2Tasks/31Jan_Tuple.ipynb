{
 "cells": [
  {
   "cell_type": "code",
   "execution_count": 1,
   "id": "e1b71f4d-5eee-4f01-bd72-c30c469d16f6",
   "metadata": {},
   "outputs": [
    {
     "name": "stdout",
     "output_type": "stream",
     "text": [
      "TUPLE Data Structure\n",
      "\n",
      "EMPTY TUPLE\n"
     ]
    }
   ],
   "source": [
    "print(\"TUPLE Data Structure\")\n",
    "print(\"\\nEMPTY TUPLE\")\n",
    "myTuple = ()"
   ]
  },
  {
   "cell_type": "code",
   "execution_count": 4,
   "id": "50690e88-bdf9-4672-8419-ee5bd7a94597",
   "metadata": {},
   "outputs": [
    {
     "name": "stdout",
     "output_type": "stream",
     "text": [
      "\n",
      "TUPLE WITH ITEMS\n",
      "(1, 2, 3, 4, 5)\n"
     ]
    }
   ],
   "source": [
    "print(\"\\nTUPLE WITH ITEMS\")\n",
    "myTuple = (1,2,3,4,5)\n",
    "print(myTuple)"
   ]
  },
  {
   "cell_type": "code",
   "execution_count": 8,
   "id": "f0c5accf-25b0-436b-a57f-b8a9749ed3f7",
   "metadata": {},
   "outputs": [
    {
     "name": "stdout",
     "output_type": "stream",
     "text": [
      "\n",
      "TUPLE WITH MIXED ITEMS\n",
      "(1, True, (3+5j), 'Length', 2, 3, False, 4, 5, 4.5)\n"
     ]
    }
   ],
   "source": [
    "print(\"\\nTUPLE WITH MIXED ITEMS\")\n",
    "myTuple = (1,True, 3+5j,\"Length\",2,3,False,4,5,4.5)\n",
    "print(myTuple)"
   ]
  },
  {
   "cell_type": "code",
   "execution_count": 9,
   "id": "c1112c64-c017-4f22-9489-284221b395f0",
   "metadata": {},
   "outputs": [
    {
     "name": "stdout",
     "output_type": "stream",
     "text": [
      "\n",
      "TUPLE WITH MIXED Data Structures\n",
      "(1, True, [1, 2, 3], (3+5j), ('A', 'B'), 'Length', 2, 3, False, 4, 5, 4.5)\n",
      "Length of tuple =  12\n"
     ]
    }
   ],
   "source": [
    "print(\"\\nTUPLE WITH MIXED Data Structures\")\n",
    "myTuple = (1,True, [1,2,3],3+5j,('A','B'),\"Length\",2,3,False,4,5,4.5)\n",
    "print(myTuple)\n",
    "print(\"Length of tuple = \",len(myTuple))"
   ]
  },
  {
   "cell_type": "code",
   "execution_count": 14,
   "id": "48dc9bcf-c990-4236-97bf-379815bb033c",
   "metadata": {},
   "outputs": [
    {
     "name": "stdout",
     "output_type": "stream",
     "text": [
      "\n",
      "TUPLE INDEXING\n",
      "(1, True, [1, 2, 3], (3+5j), ('A', 'B'), 'Length', 2, 3, False, 4, 5, 4.5)\n",
      "(4.5, 5, 4, False, 3, 2, 'Length', ('A', 'B'), (3+5j), [1, 2, 3], True, 1)\n",
      "([1, 2, 3], (3+5j), ('A', 'B'))\n",
      "1\n",
      "2\n",
      "3\n"
     ]
    }
   ],
   "source": [
    "print(\"\\nTUPLE INDEXING\")\n",
    "myTuple = (1,True, [1,2,3],3+5j,('A','B'),\"Length\",2,3,False,4,5,4.5)\n",
    "print(myTuple)\n",
    "print(myTuple[::-1])\n",
    "print(myTuple[2:5])\n",
    "for i in range(len(myTuple[2])):\n",
    "    print(myTuple[2][i])"
   ]
  },
  {
   "cell_type": "code",
   "execution_count": 21,
   "id": "3dd4047b-4a7b-4083-ade6-e14f8086df0f",
   "metadata": {},
   "outputs": [
    {
     "name": "stdout",
     "output_type": "stream",
     "text": [
      "\n",
      " TUPLE INDEXING with STRINGS\n",
      "('one', 'two', 'three')\n",
      "('three', 'four', 'five')\n",
      "('one', 'two', 'three')\n",
      "('one', 'two')\n",
      "('eight', 'nine', 'ten')\n",
      "('nine', 'ten')\n",
      "ten\n",
      "('one', 'two', 'three', 'four', 'five', 'six', 'seven', 'eight', 'nine', 'ten')\n"
     ]
    }
   ],
   "source": [
    "print(\"\\n TUPLE INDEXING with STRINGS\")\n",
    "myTuple = ('one','two','three','four','five','six','seven','eight','nine','ten')\n",
    "print(myTuple[0:3])\n",
    "print(myTuple[2:5])\n",
    "print(myTuple[0:3])\n",
    "print(myTuple[0:2])\n",
    "print(myTuple[-3:])\n",
    "print(myTuple[-2:])\n",
    "print(myTuple[-1])\n",
    "print(myTuple[:])"
   ]
  },
  {
   "cell_type": "code",
   "execution_count": 24,
   "id": "0a5c910b-aeef-4d26-a40e-774c8ef3d578",
   "metadata": {},
   "outputs": [
    {
     "name": "stdout",
     "output_type": "stream",
     "text": [
      "\n",
      " REMOVING and CHANGING ITEMS in TUPLE\n"
     ]
    },
    {
     "ename": "NameError",
     "evalue": "name 'myTuple' is not defined",
     "output_type": "error",
     "traceback": [
      "\u001b[1;31m---------------------------------------------------------------------------\u001b[0m",
      "\u001b[1;31mNameError\u001b[0m                                 Traceback (most recent call last)",
      "Cell \u001b[1;32mIn[24], line 4\u001b[0m\n\u001b[0;32m      2\u001b[0m myTuple \u001b[38;5;241m=\u001b[39m (\u001b[38;5;124m'\u001b[39m\u001b[38;5;124mone\u001b[39m\u001b[38;5;124m'\u001b[39m,\u001b[38;5;124m'\u001b[39m\u001b[38;5;124mtwo\u001b[39m\u001b[38;5;124m'\u001b[39m,\u001b[38;5;124m'\u001b[39m\u001b[38;5;124mthree\u001b[39m\u001b[38;5;124m'\u001b[39m,\u001b[38;5;124m'\u001b[39m\u001b[38;5;124mfour\u001b[39m\u001b[38;5;124m'\u001b[39m,\u001b[38;5;124m'\u001b[39m\u001b[38;5;124mfive\u001b[39m\u001b[38;5;124m'\u001b[39m,\u001b[38;5;124m'\u001b[39m\u001b[38;5;124msix\u001b[39m\u001b[38;5;124m'\u001b[39m,\u001b[38;5;124m'\u001b[39m\u001b[38;5;124mseven\u001b[39m\u001b[38;5;124m'\u001b[39m,\u001b[38;5;124m'\u001b[39m\u001b[38;5;124meight\u001b[39m\u001b[38;5;124m'\u001b[39m,\u001b[38;5;124m'\u001b[39m\u001b[38;5;124mnine\u001b[39m\u001b[38;5;124m'\u001b[39m,\u001b[38;5;124m'\u001b[39m\u001b[38;5;124mten\u001b[39m\u001b[38;5;124m'\u001b[39m)\n\u001b[0;32m      3\u001b[0m \u001b[38;5;28;01mdel\u001b[39;00m myTuple\n\u001b[1;32m----> 4\u001b[0m \u001b[38;5;28mprint\u001b[39m(myTuple)\n",
      "\u001b[1;31mNameError\u001b[0m: name 'myTuple' is not defined"
     ]
    }
   ],
   "source": [
    "print(\"\\n REMOVING and CHANGING ITEMS in TUPLE\")\n",
    "myTuple = ('one','two','three','four','five','six','seven','eight','nine','ten')\n",
    "del myTuple\n",
    "print(myTuple)\n"
   ]
  },
  {
   "cell_type": "code",
   "execution_count": 25,
   "id": "f0ba3e60-15a4-410f-b48a-b59426601e22",
   "metadata": {},
   "outputs": [
    {
     "name": "stdout",
     "output_type": "stream",
     "text": [
      "\n",
      " REMOVING and CHANGING ITEMS in TUPLE\n"
     ]
    },
    {
     "ename": "TypeError",
     "evalue": "'tuple' object doesn't support item deletion",
     "output_type": "error",
     "traceback": [
      "\u001b[1;31m---------------------------------------------------------------------------\u001b[0m",
      "\u001b[1;31mTypeError\u001b[0m                                 Traceback (most recent call last)",
      "Cell \u001b[1;32mIn[25], line 3\u001b[0m\n\u001b[0;32m      1\u001b[0m \u001b[38;5;28mprint\u001b[39m(\u001b[38;5;124m\"\u001b[39m\u001b[38;5;130;01m\\n\u001b[39;00m\u001b[38;5;124m REMOVING and CHANGING ITEMS in TUPLE\u001b[39m\u001b[38;5;124m\"\u001b[39m)\n\u001b[0;32m      2\u001b[0m myTuple \u001b[38;5;241m=\u001b[39m (\u001b[38;5;124m'\u001b[39m\u001b[38;5;124mone\u001b[39m\u001b[38;5;124m'\u001b[39m,\u001b[38;5;124m'\u001b[39m\u001b[38;5;124mtwo\u001b[39m\u001b[38;5;124m'\u001b[39m,\u001b[38;5;124m'\u001b[39m\u001b[38;5;124mthree\u001b[39m\u001b[38;5;124m'\u001b[39m,\u001b[38;5;124m'\u001b[39m\u001b[38;5;124mfour\u001b[39m\u001b[38;5;124m'\u001b[39m,\u001b[38;5;124m'\u001b[39m\u001b[38;5;124mfive\u001b[39m\u001b[38;5;124m'\u001b[39m,\u001b[38;5;124m'\u001b[39m\u001b[38;5;124msix\u001b[39m\u001b[38;5;124m'\u001b[39m,\u001b[38;5;124m'\u001b[39m\u001b[38;5;124mseven\u001b[39m\u001b[38;5;124m'\u001b[39m,\u001b[38;5;124m'\u001b[39m\u001b[38;5;124meight\u001b[39m\u001b[38;5;124m'\u001b[39m,\u001b[38;5;124m'\u001b[39m\u001b[38;5;124mnine\u001b[39m\u001b[38;5;124m'\u001b[39m,\u001b[38;5;124m'\u001b[39m\u001b[38;5;124mten\u001b[39m\u001b[38;5;124m'\u001b[39m)\n\u001b[1;32m----> 3\u001b[0m \u001b[38;5;28;01mdel\u001b[39;00m myTuple[\u001b[38;5;241m0\u001b[39m]\n",
      "\u001b[1;31mTypeError\u001b[0m: 'tuple' object doesn't support item deletion"
     ]
    }
   ],
   "source": [
    "print(\"\\n REMOVING and CHANGING ITEMS in TUPLE\")\n",
    "myTuple = ('one','two','three','four','five','six','seven','eight','nine','ten')\n",
    "del myTuple[0]"
   ]
  },
  {
   "cell_type": "code",
   "execution_count": 26,
   "id": "90599236-c425-4719-a567-6cbb08ee13ca",
   "metadata": {},
   "outputs": [
    {
     "name": "stdout",
     "output_type": "stream",
     "text": [
      "\n",
      " REMOVING and CHANGING ITEMS in TUPLE\n"
     ]
    },
    {
     "ename": "TypeError",
     "evalue": "'tuple' object does not support item assignment",
     "output_type": "error",
     "traceback": [
      "\u001b[1;31m---------------------------------------------------------------------------\u001b[0m",
      "\u001b[1;31mTypeError\u001b[0m                                 Traceback (most recent call last)",
      "Cell \u001b[1;32mIn[26], line 3\u001b[0m\n\u001b[0;32m      1\u001b[0m \u001b[38;5;28mprint\u001b[39m(\u001b[38;5;124m\"\u001b[39m\u001b[38;5;130;01m\\n\u001b[39;00m\u001b[38;5;124m REMOVING and CHANGING ITEMS in TUPLE\u001b[39m\u001b[38;5;124m\"\u001b[39m)\n\u001b[0;32m      2\u001b[0m myTuple \u001b[38;5;241m=\u001b[39m (\u001b[38;5;124m'\u001b[39m\u001b[38;5;124mone\u001b[39m\u001b[38;5;124m'\u001b[39m,\u001b[38;5;124m'\u001b[39m\u001b[38;5;124mtwo\u001b[39m\u001b[38;5;124m'\u001b[39m,\u001b[38;5;124m'\u001b[39m\u001b[38;5;124mthree\u001b[39m\u001b[38;5;124m'\u001b[39m,\u001b[38;5;124m'\u001b[39m\u001b[38;5;124mfour\u001b[39m\u001b[38;5;124m'\u001b[39m,\u001b[38;5;124m'\u001b[39m\u001b[38;5;124mfive\u001b[39m\u001b[38;5;124m'\u001b[39m,\u001b[38;5;124m'\u001b[39m\u001b[38;5;124msix\u001b[39m\u001b[38;5;124m'\u001b[39m,\u001b[38;5;124m'\u001b[39m\u001b[38;5;124mseven\u001b[39m\u001b[38;5;124m'\u001b[39m,\u001b[38;5;124m'\u001b[39m\u001b[38;5;124meight\u001b[39m\u001b[38;5;124m'\u001b[39m,\u001b[38;5;124m'\u001b[39m\u001b[38;5;124mnine\u001b[39m\u001b[38;5;124m'\u001b[39m,\u001b[38;5;124m'\u001b[39m\u001b[38;5;124mten\u001b[39m\u001b[38;5;124m'\u001b[39m)\n\u001b[1;32m----> 3\u001b[0m myTuple[\u001b[38;5;241m0\u001b[39m] \u001b[38;5;241m=\u001b[39m \u001b[38;5;241m1\u001b[39m\n",
      "\u001b[1;31mTypeError\u001b[0m: 'tuple' object does not support item assignment"
     ]
    }
   ],
   "source": [
    "print(\"\\n REMOVING and CHANGING ITEMS in TUPLE\")\n",
    "myTuple = ('one','two','three','four','five','six','seven','eight','nine','ten')\n",
    "myTuple[0] = 1"
   ]
  },
  {
   "cell_type": "code",
   "execution_count": 27,
   "id": "c5445ff5-1598-4501-8004-07eb60952f89",
   "metadata": {},
   "outputs": [
    {
     "name": "stdout",
     "output_type": "stream",
     "text": [
      "\n",
      " LOOP through items in TUPLE\n",
      "one\n",
      "two\n",
      "three\n",
      "four\n",
      "five\n",
      "six\n",
      "seven\n",
      "eight\n",
      "nine\n",
      "ten\n"
     ]
    }
   ],
   "source": [
    "print(\"\\n LOOP through items in TUPLE\")\n",
    "myTuple = ('one','two','three','four','five','six','seven','eight','nine','ten')\n",
    "for item in myTuple:\n",
    "    print(item)"
   ]
  },
  {
   "cell_type": "code",
   "execution_count": 28,
   "id": "916d63bb-a88d-4506-b8a8-f8c42b9e9597",
   "metadata": {},
   "outputs": [
    {
     "name": "stdout",
     "output_type": "stream",
     "text": [
      "\n",
      " LOOP through items in TUPLE\n",
      "(0, 'one')\n",
      "(1, 'two')\n",
      "(2, 'three')\n",
      "(3, 'four')\n",
      "(4, 'five')\n",
      "(5, 'six')\n",
      "(6, 'seven')\n",
      "(7, 'eight')\n",
      "(8, 'nine')\n",
      "(9, 'ten')\n"
     ]
    }
   ],
   "source": [
    "print(\"\\n LOOP through items in TUPLE\")\n",
    "myTuple = ('one','two','three','four','five','six','seven','eight','nine','ten')\n",
    "for item in enumerate(myTuple):\n",
    "    print(item)"
   ]
  },
  {
   "cell_type": "code",
   "execution_count": 33,
   "id": "039b5c9b-5340-46e9-8fc0-c81f59e69cb5",
   "metadata": {},
   "outputs": [
    {
     "name": "stdout",
     "output_type": "stream",
     "text": [
      "\n",
      " TUPLE MEMBERSHIP\n",
      "True\n",
      "False\n",
      "Three is present in the Tuple\n"
     ]
    }
   ],
   "source": [
    "print(\"\\n TUPLE MEMBERSHIP\")\n",
    "myTuple = ('one','two','three','four','five','six','seven','eight','nine','ten')\n",
    "print('one' in myTuple)\n",
    "print('hundred' in myTuple)\n",
    "\n",
    "if 'three' in myTuple:\n",
    "    print(\"Three is present in the Tuple\")\n",
    "else :\n",
    "    print(\"Three is NOT present in the Tuple\")"
   ]
  },
  {
   "cell_type": "code",
   "execution_count": 35,
   "id": "5f45b6cc-6f26-4778-84cb-e348166cc10e",
   "metadata": {},
   "outputs": [
    {
     "name": "stdout",
     "output_type": "stream",
     "text": [
      "\n",
      " TUPLE INDEXING\n",
      "4\n",
      "7\n"
     ]
    }
   ],
   "source": [
    "print(\"\\n TUPLE INDEXING\")\n",
    "myTuple = ('one','two','three','four','five','six','seven','eight','nine','ten')\n",
    "print(myTuple.index('five'))\n",
    "print(myTuple.index('eight'))"
   ]
  },
  {
   "cell_type": "code",
   "execution_count": 41,
   "id": "ff101e7b-3208-46ae-8fbf-46fae8623e3a",
   "metadata": {},
   "outputs": [
    {
     "name": "stdout",
     "output_type": "stream",
     "text": [
      "\n",
      " TUPLE INDEXING\n"
     ]
    },
    {
     "data": {
      "text/plain": [
       "['eight', 'five', 'four', 'nine', 'one', 'seven', 'six', 'ten', 'three', 'two']"
      ]
     },
     "execution_count": 41,
     "metadata": {},
     "output_type": "execute_result"
    }
   ],
   "source": [
    "print(\"\\n TUPLE INDEXING\")\n",
    "myTuple = ('one','two','three','four','five','six','seven','eight','nine','ten')\n",
    "sorted(myTuple)"
   ]
  },
  {
   "cell_type": "code",
   "execution_count": 42,
   "id": "9d6c2f81-aba3-4947-b4db-3218d6b77472",
   "metadata": {},
   "outputs": [
    {
     "name": "stdout",
     "output_type": "stream",
     "text": [
      "\n",
      " TUPLE INDEXING\n"
     ]
    },
    {
     "data": {
      "text/plain": [
       "['two', 'three', 'ten', 'six', 'seven', 'one', 'nine', 'four', 'five', 'eight']"
      ]
     },
     "execution_count": 42,
     "metadata": {},
     "output_type": "execute_result"
    }
   ],
   "source": [
    "print(\"\\n TUPLE INDEXING\")\n",
    "myTuple = ('one','two','three','four','five','six','seven','eight','nine','ten')\n",
    "sorted(myTuple,reverse=True)"
   ]
  },
  {
   "cell_type": "code",
   "execution_count": null,
   "id": "4f781637-8826-487f-8e95-c5b51bb0f60b",
   "metadata": {},
   "outputs": [],
   "source": []
  }
 ],
 "metadata": {
  "kernelspec": {
   "display_name": "Python 3 (ipykernel)",
   "language": "python",
   "name": "python3"
  },
  "language_info": {
   "codemirror_mode": {
    "name": "ipython",
    "version": 3
   },
   "file_extension": ".py",
   "mimetype": "text/x-python",
   "name": "python",
   "nbconvert_exporter": "python",
   "pygments_lexer": "ipython3",
   "version": "3.12.7"
  }
 },
 "nbformat": 4,
 "nbformat_minor": 5
}
