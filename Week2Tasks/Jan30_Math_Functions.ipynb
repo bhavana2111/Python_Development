{
 "cells": [
  {
   "cell_type": "code",
   "execution_count": 1,
   "id": "3829be8a-a4f8-43be-aa2f-c80c66605cb5",
   "metadata": {},
   "outputs": [
    {
     "ename": "NameError",
     "evalue": "name 'sqrt' is not defined",
     "output_type": "error",
     "traceback": [
      "\u001b[1;31m---------------------------------------------------------------------------\u001b[0m",
      "\u001b[1;31mNameError\u001b[0m                                 Traceback (most recent call last)",
      "Cell \u001b[1;32mIn[1], line 1\u001b[0m\n\u001b[1;32m----> 1\u001b[0m mySqrt \u001b[38;5;241m=\u001b[39m sqrt(\u001b[38;5;241m50\u001b[39m)\n",
      "\u001b[1;31mNameError\u001b[0m: name 'sqrt' is not defined"
     ]
    }
   ],
   "source": [
    "mySqrt = sqrt(50)"
   ]
  },
  {
   "cell_type": "code",
   "execution_count": 6,
   "id": "64d5a6d2-c269-4b4d-bc33-6e4eac41d608",
   "metadata": {},
   "outputs": [
    {
     "name": "stdout",
     "output_type": "stream",
     "text": [
      "Sqrt of 125 = 11.180339887498949\n",
      "Ceil of 125 = 12\n",
      "Floor of 125 = 11\n",
      "Factorial of 125 = 188267717688892609974376770249160085759540364871492425887598231508353156331613598866882932889495923133646405445930057740630161919341380597818883457558547055524326375565007131770880000000000000000000000000000000\n"
     ]
    }
   ],
   "source": [
    "import math\n",
    "mySqrt = math.sqrt(125)\n",
    "print(\"Sqrt of {} = {}\".format(125,math.sqrt(125)))\n",
    "print(\"Ceil of {} = {}\".format(125,math.ceil(mySqrt)))\n",
    "print(\"Floor of {} = {}\".format(125,math.floor(mySqrt)))\n",
    "print(\"Factorial of {} = {}\".format(125,math.factorial(125)))"
   ]
  },
  {
   "cell_type": "code",
   "execution_count": null,
   "id": "27f37b4b-fe1c-4420-aad8-0c70f3d0b0c0",
   "metadata": {},
   "outputs": [],
   "source": []
  }
 ],
 "metadata": {
  "kernelspec": {
   "display_name": "Python 3 (ipykernel)",
   "language": "python",
   "name": "python3"
  },
  "language_info": {
   "codemirror_mode": {
    "name": "ipython",
    "version": 3
   },
   "file_extension": ".py",
   "mimetype": "text/x-python",
   "name": "python",
   "nbconvert_exporter": "python",
   "pygments_lexer": "ipython3",
   "version": "3.12.7"
  }
 },
 "nbformat": 4,
 "nbformat_minor": 5
}
