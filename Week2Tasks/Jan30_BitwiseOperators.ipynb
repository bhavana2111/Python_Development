{
 "cells": [
  {
   "cell_type": "code",
   "execution_count": 3,
   "id": "2f4b60d0-6940-49a0-b949-87e3dde5b4f2",
   "metadata": {},
   "outputs": [
    {
     "name": "stdout",
     "output_type": "stream",
     "text": [
      "BITWISE OPERATORS IN PYTHON\n",
      "\n",
      "COMPLEMENT\n",
      "AND\n",
      "OR\n",
      "XOR\n",
      "LEFT SHIFT\n",
      "RIGHT SHIFT\n"
     ]
    }
   ],
   "source": [
    "print(\"BITWISE OPERATORS IN PYTHON\\n\")\n",
    "print(\"COMPLEMENT\\nAND\\nOR\\nXOR\\nLEFT SHIFT\\nRIGHT SHIFT\")"
   ]
  },
  {
   "cell_type": "code",
   "execution_count": 7,
   "id": "9e6c44f9-406e-4a63-bca8-5c92e063b7f3",
   "metadata": {},
   "outputs": [
    {
     "name": "stdout",
     "output_type": "stream",
     "text": [
      "COMPLEMENT OPERATOR\n",
      "Complement of {} is equal {} 0 -1\n",
      "Complement of {} is equal {} 1 -2\n",
      "Complement of {} is equal {} 5 -6\n",
      "Complement of {} is equal {} 23 -24\n",
      "Complement of {} is equal {} 47 -48\n",
      "Complement of {} is equal {} -1 0\n",
      "Complement of {} is equal {} -5 4\n",
      "Complement of {} is equal {} -23 22\n",
      "Complement of {} is equal {} -47 46\n"
     ]
    }
   ],
   "source": [
    "print(\"COMPLEMENT OPERATOR\")\n",
    "print(\"Complement of {} is equal {}\",0,~0)\n",
    "print(\"Complement of {} is equal {}\",1,~1)\n",
    "print(\"Complement of {} is equal {}\",5,~5)\n",
    "print(\"Complement of {} is equal {}\",23,~23)\n",
    "print(\"Complement of {} is equal {}\",47,~47)\n",
    "\n",
    "\n",
    "print(\"Complement of {} is equal {}\",-1,~(-1))\n",
    "print(\"Complement of {} is equal {}\",-5,~(-5))\n",
    "print(\"Complement of {} is equal {}\",-23,~(-23))\n",
    "print(\"Complement of {} is equal {}\",-47,~(-47))\n"
   ]
  },
  {
   "cell_type": "code",
   "execution_count": 19,
   "id": "f8e6802e-ecbc-4a13-b465-0a42f7ea68ac",
   "metadata": {},
   "outputs": [
    {
     "name": "stdout",
     "output_type": "stream",
     "text": [
      "\n",
      "AND & OPERATOR\n",
      "AND of 0 & 0 is equal 0\n",
      "AND of 0 & 1 is equal 0\n",
      "AND of 1 & 0 is equal 0\n",
      "AND of 1 & 1 is equal 1\n",
      "AND of 2 & 3 is equal 2\n",
      "AND of 12 & 43 is equal 8\n",
      "AND of 35 | 40 is equal 32\n",
      "\n",
      "OR & OPERATOR\n",
      "OR of 0 & 0 is equal 0\n",
      "OR of 0 & 1 is equal 1\n",
      "OR of 1 & 0 is equal 1\n",
      "OR of 1 & 1 is equal 1\n",
      "OR of 2 | 3 is equal 3\n",
      "OR of 12 | 43 is equal 47\n",
      "OR of 35 | 40 is equal 43\n",
      "\n",
      "XOR & OPERATOR\n",
      "XOR of 0 & 0 is equal 0\n",
      "XOR of 0 & 1 is equal 1\n",
      "XOR of 1 & 0 is equal 1\n",
      "XOR of 1 & 1 is equal 0\n",
      "XOR of 2 | 3 is equal 1\n",
      "XOR of 12 | 43 is equal 39\n",
      "XOR of 35 | 40 is equal 11\n"
     ]
    }
   ],
   "source": [
    "print(\"\\nAND & OPERATOR\")\n",
    "print(\"AND of {} & {} is equal {}\".format(0,0,(0 & 0)))\n",
    "print(\"AND of {} & {} is equal {}\".format(0,1,(0 & 1)))\n",
    "print(\"AND of {} & {} is equal {}\".format(1,0,(1 & 0)))\n",
    "print(\"AND of {} & {} is equal {}\".format(1,1,(1 & 1)))\n",
    "print(\"AND of {} & {} is equal {}\".format(2,3,(2 & 3)))\n",
    "print(\"AND of {} & {} is equal {}\".format(12,43,(12 & 43)))\n",
    "print(\"AND of {} | {} is equal {}\".format(35,40,(35 & 40)))\n",
    "\n",
    "\n",
    "print(\"\\nOR & OPERATOR\")\n",
    "print(\"OR of {} & {} is equal {}\".format(0,0,(0 | 0)))\n",
    "print(\"OR of {} & {} is equal {}\".format(0,1,(0 | 1)))\n",
    "print(\"OR of {} & {} is equal {}\".format(1,0,(1 | 0)))\n",
    "print(\"OR of {} & {} is equal {}\".format(1,1,(1 | 1)))\n",
    "print(\"OR of {} | {} is equal {}\".format(2,3,(2 | 3)))\n",
    "print(\"OR of {} | {} is equal {}\".format(12,43,(12 | 43)))\n",
    "print(\"OR of {} | {} is equal {}\".format(35,40,(35 | 40)))\n",
    "\n",
    "print(\"\\nXOR & OPERATOR\")\n",
    "print(\"XOR of {} & {} is equal {}\".format(0,0,(0 ^ 0)))\n",
    "print(\"XOR of {} & {} is equal {}\".format(0,1,(0 ^ 1)))\n",
    "print(\"XOR of {} & {} is equal {}\".format(1,0,(1 ^ 0)))\n",
    "print(\"XOR of {} & {} is equal {}\".format(1,1,(1 ^ 1)))\n",
    "print(\"XOR of {} | {} is equal {}\".format(2,3,(2 ^ 3)))\n",
    "print(\"XOR of {} | {} is equal {}\".format(12,43,(12 ^ 43)))\n",
    "print(\"XOR of {} | {} is equal {}\".format(35,40,(35 ^ 40)))"
   ]
  },
  {
   "cell_type": "code",
   "execution_count": 20,
   "id": "25d015b7-d94c-48f5-ac0a-e0ef07d145d6",
   "metadata": {},
   "outputs": [
    {
     "name": "stdout",
     "output_type": "stream",
     "text": [
      "\n",
      "LEFT SHIFT << OPERATOR\n",
      "LEFT SHIFT of 0 & 0 is equal 0\n",
      "LEFT SHIFT of 0 & 1 is equal 0\n",
      "LEFT SHIFT of 1 & 0 is equal 1\n",
      "LEFT SHIFT of 1 & 1 is equal 2\n",
      "LEFT SHIFT of 2 & 3 is equal 16\n",
      "LEFT SHIFT of 12 & 43 is equal 105553116266496\n",
      "LEFT SHIFT of 35 | 40 is equal 38482906972160\n"
     ]
    }
   ],
   "source": [
    "print(\"\\nLEFT SHIFT << OPERATOR\")\n",
    "print(\"LEFT SHIFT of {} & {} is equal {}\".format(0,0,(0 << 0)))\n",
    "print(\"LEFT SHIFT of {} & {} is equal {}\".format(0,1,(0 << 1)))\n",
    "print(\"LEFT SHIFT of {} & {} is equal {}\".format(1,0,(1 << 0)))\n",
    "print(\"LEFT SHIFT of {} & {} is equal {}\".format(1,1,(1 << 1)))\n",
    "print(\"LEFT SHIFT of {} & {} is equal {}\".format(2,3,(2 << 3)))\n",
    "print(\"LEFT SHIFT of {} & {} is equal {}\".format(12,43,(12 << 43)))\n",
    "print(\"LEFT SHIFT of {} | {} is equal {}\".format(35,40,(35 << 40)))"
   ]
  },
  {
   "cell_type": "code",
   "execution_count": null,
   "id": "02b27752-68cf-4257-90c3-219fcb90deb6",
   "metadata": {},
   "outputs": [],
   "source": []
  }
 ],
 "metadata": {
  "kernelspec": {
   "display_name": "Python 3 (ipykernel)",
   "language": "python",
   "name": "python3"
  },
  "language_info": {
   "codemirror_mode": {
    "name": "ipython",
    "version": 3
   },
   "file_extension": ".py",
   "mimetype": "text/x-python",
   "name": "python",
   "nbconvert_exporter": "python",
   "pygments_lexer": "ipython3",
   "version": "3.12.7"
  }
 },
 "nbformat": 4,
 "nbformat_minor": 5
}
