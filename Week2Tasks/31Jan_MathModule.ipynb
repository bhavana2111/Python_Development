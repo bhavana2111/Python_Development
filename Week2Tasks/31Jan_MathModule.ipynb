{
 "cells": [
  {
   "cell_type": "code",
   "execution_count": 1,
   "id": "46c6ee6f-f210-47c0-b6c9-b1f5861e8a0f",
   "metadata": {},
   "outputs": [
    {
     "name": "stdout",
     "output_type": "stream",
     "text": [
      "101\n"
     ]
    }
   ],
   "source": [
    "import math\n",
    "print(math.ceil(100.87))"
   ]
  },
  {
   "cell_type": "code",
   "execution_count": 2,
   "id": "1ebde9e8-671f-49d7-852e-f7d11935ac6b",
   "metadata": {},
   "outputs": [
    {
     "name": "stdout",
     "output_type": "stream",
     "text": [
      "10\n",
      "19\n"
     ]
    }
   ],
   "source": [
    "import math as m\n",
    "print(m.floor(10.9))\n",
    "print(m.ceil(18.45))"
   ]
  },
  {
   "cell_type": "code",
   "execution_count": 7,
   "id": "02e231de-b5e8-4c0b-a2a9-e2a9d9eddede",
   "metadata": {},
   "outputs": [
    {
     "name": "stdout",
     "output_type": "stream",
     "text": [
      "21.354156504062622\n",
      "243\n"
     ]
    }
   ],
   "source": [
    "from math import pi,sqrt,pow\n",
    "print(sqrt(456))\n",
    "print(round(pow(3,5)))"
   ]
  },
  {
   "cell_type": "code",
   "execution_count": 6,
   "id": "9caac7d5-bf4c-4282-a805-e970bc97dcaf",
   "metadata": {},
   "outputs": [
    {
     "name": "stdout",
     "output_type": "stream",
     "text": [
      "46\n",
      "456\n"
     ]
    }
   ],
   "source": [
    "from math import *\n",
    "print(ceil(45.6))\n",
    "print(floor(456.34))"
   ]
  },
  {
   "cell_type": "code",
   "execution_count": 8,
   "id": "6380e548-ff2a-4258-b8bc-535b25806d13",
   "metadata": {},
   "outputs": [
    {
     "name": "stdin",
     "output_type": "stream",
     "text": [
      " 34\n",
      " 43\n"
     ]
    },
    {
     "name": "stdout",
     "output_type": "stream",
     "text": [
      "3443\n"
     ]
    }
   ],
   "source": [
    "num1 = input()\n",
    "num2 = input()\n",
    "\n",
    "print(num1+num2)"
   ]
  },
  {
   "cell_type": "code",
   "execution_count": 11,
   "id": "d81c8c3a-4a4d-4256-9df5-6e9ac5c625ef",
   "metadata": {},
   "outputs": [
    {
     "name": "stdin",
     "output_type": "stream",
     "text": [
      "Enter number 1 56\n",
      "Enter number 2 65\n"
     ]
    },
    {
     "name": "stdout",
     "output_type": "stream",
     "text": [
      "121\n"
     ]
    }
   ],
   "source": [
    "num1 = input(\"Enter number 1\")\n",
    "num2 = input(\"Enter number 2\")\n",
    "\n",
    "print(int(num1)+int(num2))"
   ]
  },
  {
   "cell_type": "code",
   "execution_count": 12,
   "id": "346b7257-9c62-4671-a1cf-9cda64fc79d7",
   "metadata": {},
   "outputs": [
    {
     "name": "stdin",
     "output_type": "stream",
     "text": [
      "Enter number 1 34\n",
      "Enter number 2 54\n"
     ]
    },
    {
     "name": "stdout",
     "output_type": "stream",
     "text": [
      "88\n"
     ]
    }
   ],
   "source": [
    "num1 = int(input(\"Enter number 1\"))\n",
    "num2 = int(input(\"Enter number 2\"))\n",
    "\n",
    "print(num1+num2)"
   ]
  },
  {
   "cell_type": "code",
   "execution_count": 15,
   "id": "67c26c78-180c-4c6b-b64c-eae918bbe00d",
   "metadata": {},
   "outputs": [
    {
     "name": "stdin",
     "output_type": "stream",
     "text": [
      "Enter a character Hello\n",
      "Enter number 2 BhavanaSaiMittipati\n"
     ]
    },
    {
     "name": "stdout",
     "output_type": "stream",
     "text": [
      "H\n",
      "hava\n"
     ]
    }
   ],
   "source": [
    "char1 = input(\"Enter a character\")[0]\n",
    "char2 = input(\"Enter number 2\")[1:5]\n",
    "\n",
    "print(char1)\n",
    "print(char2)"
   ]
  },
  {
   "cell_type": "code",
   "execution_count": 16,
   "id": "7491b5f2-a42a-48c2-910d-3912c720464c",
   "metadata": {},
   "outputs": [
    {
     "name": "stdin",
     "output_type": "stream",
     "text": [
      "Enter a character 2+3*4\n"
     ]
    },
    {
     "name": "stdout",
     "output_type": "stream",
     "text": [
      "2+3*4\n"
     ]
    }
   ],
   "source": [
    "char1 = input(\"Enter a character\")\n",
    "\n",
    "print(char1)"
   ]
  },
  {
   "cell_type": "code",
   "execution_count": 17,
   "id": "81cf314e-67b9-414d-b82c-9db2316ba10b",
   "metadata": {},
   "outputs": [
    {
     "name": "stdin",
     "output_type": "stream",
     "text": [
      "Enter a character 4+6*4\n"
     ]
    },
    {
     "ename": "ValueError",
     "evalue": "invalid literal for int() with base 10: '4+6*4'",
     "output_type": "error",
     "traceback": [
      "\u001b[1;31m---------------------------------------------------------------------------\u001b[0m",
      "\u001b[1;31mValueError\u001b[0m                                Traceback (most recent call last)",
      "Cell \u001b[1;32mIn[17], line 1\u001b[0m\n\u001b[1;32m----> 1\u001b[0m num1 \u001b[38;5;241m=\u001b[39m \u001b[38;5;28mint\u001b[39m(\u001b[38;5;28minput\u001b[39m(\u001b[38;5;124m\"\u001b[39m\u001b[38;5;124mEnter a character\u001b[39m\u001b[38;5;124m\"\u001b[39m))\n\u001b[0;32m      3\u001b[0m \u001b[38;5;28mprint\u001b[39m(num1)\n",
      "\u001b[1;31mValueError\u001b[0m: invalid literal for int() with base 10: '4+6*4'"
     ]
    }
   ],
   "source": [
    "num1 = int(input(\"Enter a character\"))\n",
    "\n",
    "print(num1)"
   ]
  },
  {
   "cell_type": "code",
   "execution_count": 20,
   "id": "3d3a6a3e-6ef9-4923-b4d1-f847c64bcdf5",
   "metadata": {},
   "outputs": [
    {
     "name": "stdin",
     "output_type": "stream",
     "text": [
      "Enter a character 45*7/34\n"
     ]
    },
    {
     "name": "stdout",
     "output_type": "stream",
     "text": [
      "9.264705882352942\n"
     ]
    }
   ],
   "source": [
    "eval1 = eval(input(\"Enter a character\"))\n",
    "\n",
    "print(eval1)"
   ]
  },
  {
   "cell_type": "code",
   "execution_count": null,
   "id": "f3c7874d-764d-4f64-bdb0-665fa32db94f",
   "metadata": {},
   "outputs": [],
   "source": []
  }
 ],
 "metadata": {
  "kernelspec": {
   "display_name": "Python 3 (ipykernel)",
   "language": "python",
   "name": "python3"
  },
  "language_info": {
   "codemirror_mode": {
    "name": "ipython",
    "version": 3
   },
   "file_extension": ".py",
   "mimetype": "text/x-python",
   "name": "python",
   "nbconvert_exporter": "python",
   "pygments_lexer": "ipython3",
   "version": "3.12.7"
  }
 },
 "nbformat": 4,
 "nbformat_minor": 5
}
